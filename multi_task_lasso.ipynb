{
 "cells": [
  {
   "cell_type": "markdown",
   "id": "2146a6b9",
   "metadata": {},
   "source": [
    "# LIBRARIES"
   ]
  },
  {
   "cell_type": "code",
   "execution_count": 1,
   "id": "b67a6387",
   "metadata": {},
   "outputs": [],
   "source": [
    "import pandas as pd\n",
    "import numpy as np\n",
    "import pickle\n",
    "import matplotlib.pyplot as plt\n",
    "\n",
    "import warnings\n",
    "warnings.filterwarnings('ignore')\n",
    "\n",
    "pd.set_option('max_columns', None)\n",
    "pd.set_option('max_rows', 80)"
   ]
  },
  {
   "cell_type": "code",
   "execution_count": 2,
   "id": "470a238c",
   "metadata": {},
   "outputs": [],
   "source": [
    "from sklearn.preprocessing import StandardScaler, MinMaxScaler\n",
    "\n",
    "from sklearn.multioutput import RegressorChain, MultiOutputRegressor\n",
    "\n",
    "from sklearn.linear_model import RidgeCV, MultiTaskLassoCV, LinearRegression, ElasticNet, LassoCV\n",
    "from sklearn.tree import DecisionTreeRegressor\n",
    "from sklearn.neural_network import MLPRegressor\n",
    "from sklearn.ensemble import RandomForestRegressor, GradientBoostingRegressor\n",
    "\n",
    "from sklearn.model_selection import cross_val_score, RepeatedKFold\n",
    "\n",
    "from sklearn.metrics import mean_absolute_error, mean_squared_error"
   ]
  },
  {
   "cell_type": "markdown",
   "id": "6727d130",
   "metadata": {},
   "source": [
    "# DATA"
   ]
  },
  {
   "cell_type": "code",
   "execution_count": 3,
   "id": "6840dee9",
   "metadata": {},
   "outputs": [],
   "source": [
    "df = pd.read_csv('Prepared Data/df.csv')\n",
    "df = df.fillna(0)"
   ]
  },
  {
   "cell_type": "code",
   "execution_count": 4,
   "id": "dd656ef0",
   "metadata": {},
   "outputs": [],
   "source": [
    "year = 2018\n",
    "idx_train = df['SEASON'] <= year\n",
    "idx_test = df['SEASON'] > year\n",
    "\n",
    "df_train = df.loc[idx_train, :]\n",
    "df_test = df.loc[idx_test, :]\n",
    "\n",
    "index_cols = ['PLAYER_ID', 'PLAYER_NAME', 'TEAM_ABBREVIATION', 'SEASON']\n",
    "\n",
    "df_train = df_train.set_index(index_cols)\n",
    "df_test = df_test.set_index(index_cols)"
   ]
  },
  {
   "cell_type": "code",
   "execution_count": 5,
   "id": "ed556c6a",
   "metadata": {},
   "outputs": [],
   "source": [
    "label_cols = ['PTS', 'REB', 'AST']\n",
    "\n",
    "X_train, X_test = df_train.drop(label_cols, axis=1), df_test.drop(label_cols, axis=1)\n",
    "y_train, y_test = df_train[label_cols], df_test[label_cols]"
   ]
  },
  {
   "cell_type": "markdown",
   "id": "9ff589b1",
   "metadata": {},
   "source": [
    "# HELP METHODS"
   ]
  },
  {
   "cell_type": "code",
   "execution_count": 6,
   "id": "f92e01f0",
   "metadata": {},
   "outputs": [],
   "source": [
    "def evaluate(y, y_hat):\n",
    "    outputs = []\n",
    "    \n",
    "    outputs.append(mean_absolute_error(y, y_hat)) # GENERAL MAE\n",
    "    outputs.append(np.sqrt(mean_squared_error(y, y_hat))) # GENERAL RMSE\n",
    "    \n",
    "    for i in range(y.shape[1]):\n",
    "        outputs.append(mean_absolute_error(y.iloc[:, i], y_hat[:, i])) #SPECIFIC OUTPUT MAE\n",
    "        outputs.append(mean_squared_error(y.iloc[:, i], y_hat[:, i])) #SPECIFIC OUTPUT RMSE\n",
    "        \n",
    "    return outputs"
   ]
  },
  {
   "cell_type": "markdown",
   "id": "b2428466",
   "metadata": {},
   "source": [
    "# MODELS"
   ]
  },
  {
   "cell_type": "code",
   "execution_count": 8,
   "id": "d0783853",
   "metadata": {},
   "outputs": [],
   "source": [
    "model = MultiTaskLassoCV()"
   ]
  },
  {
   "cell_type": "code",
   "execution_count": 9,
   "id": "63c65120",
   "metadata": {},
   "outputs": [],
   "source": [
    "model.fit(X_train, y_train)\n",
    "results = []\n",
    "\n",
    "y_hat_train = model.predict(X_train)\n",
    "y_hat_test = model.predict(X_test)\n",
    "\n",
    "results.append(['TRAIN', model.__class__.__name__, *evaluate(y_train, y_hat_train)])\n",
    "results.append(['TEST', model.__class__.__name__, *evaluate(y_test, y_hat_test)])\n",
    "with open(f'{model.__class__.__name__}.pickle', 'wb') as f:\n",
    "    pickle.dump(model, f)"
   ]
  },
  {
   "cell_type": "code",
   "execution_count": 10,
   "id": "9d870f68",
   "metadata": {},
   "outputs": [
    {
     "data": {
      "text/html": [
       "<div>\n",
       "<style scoped>\n",
       "    .dataframe tbody tr th:only-of-type {\n",
       "        vertical-align: middle;\n",
       "    }\n",
       "\n",
       "    .dataframe tbody tr th {\n",
       "        vertical-align: top;\n",
       "    }\n",
       "\n",
       "    .dataframe thead th {\n",
       "        text-align: right;\n",
       "    }\n",
       "</style>\n",
       "<table border=\"1\" class=\"dataframe\">\n",
       "  <thead>\n",
       "    <tr style=\"text-align: right;\">\n",
       "      <th></th>\n",
       "      <th>DATASET</th>\n",
       "      <th>ALGORITHM</th>\n",
       "      <th>GENERAL_MAE</th>\n",
       "      <th>GENERAL_RMSE</th>\n",
       "      <th>PTS_MAE</th>\n",
       "      <th>PTS_RMSE</th>\n",
       "      <th>REB_MAE</th>\n",
       "      <th>REB_RMSE</th>\n",
       "      <th>AST_MAE</th>\n",
       "      <th>AST_RMSE</th>\n",
       "    </tr>\n",
       "  </thead>\n",
       "  <tbody>\n",
       "    <tr>\n",
       "      <th>0</th>\n",
       "      <td>TRAIN</td>\n",
       "      <td>MultiTaskLassoCV</td>\n",
       "      <td>3.578126</td>\n",
       "      <td>5.088780</td>\n",
       "      <td>6.083074</td>\n",
       "      <td>58.866383</td>\n",
       "      <td>2.712201</td>\n",
       "      <td>12.282692</td>\n",
       "      <td>1.939102</td>\n",
       "      <td>6.537968</td>\n",
       "    </tr>\n",
       "    <tr>\n",
       "      <th>1</th>\n",
       "      <td>TEST</td>\n",
       "      <td>MultiTaskLassoCV</td>\n",
       "      <td>3.649805</td>\n",
       "      <td>5.306298</td>\n",
       "      <td>6.376410</td>\n",
       "      <td>65.994977</td>\n",
       "      <td>2.592146</td>\n",
       "      <td>11.618789</td>\n",
       "      <td>1.980859</td>\n",
       "      <td>6.856634</td>\n",
       "    </tr>\n",
       "  </tbody>\n",
       "</table>\n",
       "</div>"
      ],
      "text/plain": [
       "  DATASET         ALGORITHM  GENERAL_MAE  GENERAL_RMSE   PTS_MAE   PTS_RMSE  \\\n",
       "0   TRAIN  MultiTaskLassoCV     3.578126      5.088780  6.083074  58.866383   \n",
       "1    TEST  MultiTaskLassoCV     3.649805      5.306298  6.376410  65.994977   \n",
       "\n",
       "    REB_MAE   REB_RMSE   AST_MAE  AST_RMSE  \n",
       "0  2.712201  12.282692  1.939102  6.537968  \n",
       "1  2.592146  11.618789  1.980859  6.856634  "
      ]
     },
     "execution_count": 10,
     "metadata": {},
     "output_type": "execute_result"
    }
   ],
   "source": [
    "results = pd.DataFrame(results, columns=['DATASET', 'ALGORITHM',\n",
    "                                         'GENERAL_MAE', 'GENERAL_RMSE', \n",
    "                                         'PTS_MAE', 'PTS_RMSE', \n",
    "                                         'REB_MAE', 'REB_RMSE', \n",
    "                                         'AST_MAE', 'AST_RMSE'])\n",
    "\n",
    "results"
   ]
  },
  {
   "cell_type": "code",
   "execution_count": 11,
   "id": "aedea453",
   "metadata": {},
   "outputs": [],
   "source": [
    "results.to_csv('Results/MultiTaskLassoCV_results.csv')"
   ]
  }
 ],
 "metadata": {
  "kernelspec": {
   "display_name": "Python 3",
   "language": "python",
   "name": "python3"
  },
  "language_info": {
   "codemirror_mode": {
    "name": "ipython",
    "version": 3
   },
   "file_extension": ".py",
   "mimetype": "text/x-python",
   "name": "python",
   "nbconvert_exporter": "python",
   "pygments_lexer": "ipython3",
   "version": "3.8.8"
  }
 },
 "nbformat": 4,
 "nbformat_minor": 5
}
