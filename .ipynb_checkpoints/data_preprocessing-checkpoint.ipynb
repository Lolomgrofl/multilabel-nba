{
 "cells": [
  {
   "cell_type": "markdown",
   "id": "653ef869",
   "metadata": {},
   "source": [
    "# Libraries"
   ]
  },
  {
   "cell_type": "code",
   "execution_count": 1,
   "id": "777aa1fa",
   "metadata": {},
   "outputs": [
    {
     "name": "stderr",
     "output_type": "stream",
     "text": [
      "D:\\Development\\Anaconda\\lib\\site-packages\\pandas\\compat\\_optional.py:138: UserWarning: Pandas requires version '2.7.0' or newer of 'numexpr' (version '2.6.9' currently installed).\n",
      "  warnings.warn(msg, UserWarning)\n"
     ]
    }
   ],
   "source": [
    "import pandas as pd\n",
    "import numpy as np\n",
    "\n",
    "import matplotlib.pyplot as plt\n",
    "\n",
    "import warnings\n",
    "warnings.filterwarnings('ignore')\n",
    "\n",
    "pd.set_option('max_columns', None)"
   ]
  },
  {
   "cell_type": "code",
   "execution_count": 2,
   "id": "5790e679",
   "metadata": {},
   "outputs": [],
   "source": [
    "from nba_api.stats.static import players as nba_players\n",
    "from nba_api.stats.endpoints import commonplayerinfo\n",
    "\n",
    "import time"
   ]
  },
  {
   "cell_type": "markdown",
   "id": "15aabb95",
   "metadata": {},
   "source": [
    "# Data"
   ]
  },
  {
   "cell_type": "code",
   "execution_count": 3,
   "id": "77c55068",
   "metadata": {},
   "outputs": [],
   "source": [
    "games = pd.read_csv('./data/games.csv')\n",
    "games_details = pd.read_csv('./data/games_details.csv')\n",
    "\n",
    "players = pd.read_csv('./data/players.csv')\n",
    "\n",
    "teams = pd.read_csv('./data/teams.csv')\n",
    "ranking = pd.read_csv('./data/ranking.csv')"
   ]
  },
  {
   "cell_type": "code",
   "execution_count": 4,
   "id": "93cda228",
   "metadata": {},
   "outputs": [],
   "source": [
    "games['GAME_DATE_EST'] = pd.to_datetime(games['GAME_DATE_EST'], format='%Y-%m-%d')"
   ]
  },
  {
   "cell_type": "markdown",
   "id": "cd747957",
   "metadata": {},
   "source": [
    "## GAMES DETAILS"
   ]
  },
  {
   "cell_type": "code",
   "execution_count": 5,
   "id": "7cbf9710",
   "metadata": {},
   "outputs": [],
   "source": [
    "df = pd.merge(games_details, games[['GAME_ID', 'SEASON', 'GAME_DATE_EST']], on='GAME_ID', how='inner')\n",
    "df = df.sort_values('GAME_DATE_EST')\n",
    "\n",
    "df['MIN'] = pd.to_numeric(df['MIN'].str.strip(':').str[0:2], errors='coerce')"
   ]
  },
  {
   "cell_type": "code",
   "execution_count": 6,
   "id": "e46e47f5",
   "metadata": {},
   "outputs": [],
   "source": [
    "last_n_games = [5, 10]\n",
    "columns_to_agg = ['MIN', 'FGM', 'FGA', 'FG_PCT', 'FG3M', 'FG3A', 'FG3_PCT', \n",
    "                  'FTM', 'FTA', 'FT_PCT', 'OREB', 'DREB', 'REB', 'AST', \n",
    "                  'STL', 'BLK', 'TO', 'PF', 'PTS', 'PLUS_MINUS']\n",
    "\n",
    "for game in last_n_games:\n",
    "    for col in columns_to_agg:\n",
    "        df[f'AVG_{col}_LAST_{game}'] = df.groupby(['SEASON', 'PLAYER_ID'])[col].shift(1).rolling(game, min_periods=1).mean()\n",
    "        \n",
    "    df[f'GAMES_PLAYED_LAST_{game}'] = df.groupby(['SEASON', 'PLAYER_ID'])['MIN'].shift(1).rolling(game + 1, min_periods=1).count()/game"
   ]
  },
  {
   "cell_type": "code",
   "execution_count": 7,
   "id": "5abde2d0",
   "metadata": {},
   "outputs": [],
   "source": [
    "# df.tail()"
   ]
  },
  {
   "cell_type": "markdown",
   "id": "9d9f6c20",
   "metadata": {},
   "source": [
    "## GAMES"
   ]
  },
  {
   "cell_type": "code",
   "execution_count": 8,
   "id": "1d7c1e99",
   "metadata": {},
   "outputs": [],
   "source": [
    "col_home = ['GAME_DATE_EST', 'GAME_ID', 'HOME_TEAM_ID','HOME_TEAM_ID','SEASON', \n",
    "            'PTS_home', 'FG_PCT_home', 'FT_PCT_home', 'FG3_PCT_home', \n",
    "            'AST_home', 'REB_home', 'HOME_TEAM_WINS']\n",
    "\n",
    "col_guest = ['GAME_DATE_EST', 'GAME_ID','HOME_TEAM_ID','VISITOR_TEAM_ID', 'SEASON', \n",
    "            'PTS_away', 'FG_PCT_away', 'FT_PCT_away', 'FG3_PCT_away', \n",
    "            'AST_away', 'REB_away', 'HOME_TEAM_WINS']\n",
    "\n",
    "col_names = ['GAME_DATE_EST', 'GAME_ID', 'HOME_TEAM_ID', 'TEAM_ID', 'SEASON', \n",
    "            'PTS', 'FG_PCT', 'FT_PCT', 'FG3_PCT', \n",
    "            'AST', 'REB', 'TEAM_WINS']\n",
    "\n",
    "games_home = games[col_home]\n",
    "games_home.columns = col_names\n",
    "games_home = games_home.sort_values('GAME_DATE_EST')\n",
    "\n",
    "games_guest = games[col_guest]\n",
    "games_guest['HOME_TEAM_WINS'] = 1 - games['HOME_TEAM_WINS']\n",
    "games_guest.columns = col_names\n",
    "games_guest = games_guest.sort_values('GAME_DATE_EST')\n",
    "\n",
    "all_games = pd.concat([games_home, games_guest])\n",
    "all_games = all_games.sort_values('GAME_DATE_EST')"
   ]
  },
  {
   "cell_type": "code",
   "execution_count": 9,
   "id": "5ed73bdd",
   "metadata": {},
   "outputs": [],
   "source": [
    "last_n_games = [5, 10]\n",
    "columns_to_agg = ['PTS','FG_PCT','FT_PCT','FG3_PCT',\n",
    "                  'AST','REB','TEAM_WINS']\n",
    "for game in last_n_games:\n",
    "    for col in columns_to_agg:\n",
    "        all_games[f'TEAM_AVG_{col}_LAST_{game}'] = all_games.groupby(['SEASON', 'TEAM_ID'])[col].shift(1).rolling(game, min_periods=1).mean()"
   ]
  },
  {
   "cell_type": "code",
   "execution_count": 10,
   "id": "dc5f47d3",
   "metadata": {},
   "outputs": [],
   "source": [
    "all_games_cols = ['GAME_ID', 'TEAM_ID', 'TEAM_AVG_PTS_LAST_5', 'TEAM_AVG_FG_PCT_LAST_5', 'TEAM_AVG_FT_PCT_LAST_5', \n",
    "                  'TEAM_AVG_FG3_PCT_LAST_5', 'TEAM_AVG_AST_LAST_5', 'TEAM_AVG_REB_LAST_5',\n",
    "                  'TEAM_AVG_TEAM_WINS_LAST_5', 'TEAM_AVG_PTS_LAST_10', 'TEAM_AVG_FG_PCT_LAST_10', \n",
    "                  'TEAM_AVG_FT_PCT_LAST_10', 'TEAM_AVG_FG3_PCT_LAST_10', 'TEAM_AVG_AST_LAST_10',\n",
    "                  'TEAM_AVG_REB_LAST_10', 'TEAM_AVG_TEAM_WINS_LAST_10']\n",
    "\n",
    "all_games = all_games[all_games_cols]"
   ]
  },
  {
   "cell_type": "code",
   "execution_count": 11,
   "id": "b8eb535f",
   "metadata": {},
   "outputs": [],
   "source": [
    "# all_games.tail()"
   ]
  },
  {
   "cell_type": "markdown",
   "id": "a7d1d5eb",
   "metadata": {},
   "source": [
    "## NIGHTLIFE"
   ]
  },
  {
   "cell_type": "code",
   "execution_count": 12,
   "id": "ffa6bc9f",
   "metadata": {},
   "outputs": [],
   "source": [
    "nightlife = pd.read_excel('./data/nightlife.xlsx')\n",
    "\n",
    "nightlife = nightlife[['Abbrev', 'AVERAGE SC RATING']]"
   ]
  },
  {
   "cell_type": "markdown",
   "id": "56bdeda2",
   "metadata": {},
   "source": [
    "## PLAYERS"
   ]
  },
  {
   "cell_type": "code",
   "execution_count": 13,
   "id": "49078851",
   "metadata": {},
   "outputs": [],
   "source": [
    "# positions = []\n",
    "# for index, player in players.iterrows():\n",
    "#     print(player['PLAYER_NAME'])\n",
    "#     player_info = nba_players.find_players_by_full_name(player['PLAYER_NAME'])\n",
    "#     player_info = commonplayerinfo.CommonPlayerInfo(player_id = player_info[0]['id'])\n",
    "    \n",
    "#     position = player_info.get_normalized_dict()['CommonPlayerInfo'][0]['POSITION']\n",
    "#     positions.append(position)\n",
    "    \n",
    "#     time.sleep(2) # ALLOWABLE NUMBER OF CONNECTION IS 30 PER MINUTE\n",
    "\n",
    "# players['POSITION'] = positions"
   ]
  },
  {
   "cell_type": "markdown",
   "id": "e002f086",
   "metadata": {},
   "source": [
    "## Merge dataframes"
   ]
  },
  {
   "cell_type": "code",
   "execution_count": 14,
   "id": "4bc5c729",
   "metadata": {},
   "outputs": [],
   "source": [
    "df = df.merge(all_games, on=['GAME_ID', 'TEAM_ID'], how='inner') #MERGE WITH GAMES\n",
    "df = df.merge(nightlife, left_on='TEAM_ABBREVIATION', right_on='Abbrev', how='inner') # GET NIGHTLIFE QUALITY\n",
    "# df = pd.merge(df, players, on='PLAYER_ID', how='inner') #MERGE WITH PLAYERS TO GET POSITION"
   ]
  },
  {
   "cell_type": "markdown",
   "id": "184df4b6",
   "metadata": {},
   "source": [
    "## REDUCE DATAFRAME"
   ]
  },
  {
   "cell_type": "code",
   "execution_count": 15,
   "id": "c978221b",
   "metadata": {},
   "outputs": [],
   "source": [
    "df_reduced = df.set_index(['PLAYER_ID', 'SEASON']).loc[df.groupby(['PLAYER_ID', 'SEASON'])['MIN'].mean() > 20, :] # THOSE WHO PLAYER OVER 20 MIN PER GAME\n",
    "df_reduced = df_reduced.loc[(df_reduced['AVG_MIN_LAST_5'] >= 0) & (df_reduced['MIN'] >= 0), :] # SELECT ONLY WHEN PLAYER PLAYED A GAME (AND CONSEQUENTLY REMOVE THE FIRST GAME OF THE SEASON)"
   ]
  },
  {
   "cell_type": "code",
   "execution_count": 16,
   "id": "c49aa31c",
   "metadata": {},
   "outputs": [],
   "source": [
    "# JUST FOR CONVENIENCE\n",
    "df_reduced = df_reduced.reset_index()\n",
    "df_reduced = df_reduced.set_index(['PLAYER_ID', 'PLAYER_NAME', 'TEAM_ABBREVIATION', 'SEASON'])"
   ]
  },
  {
   "cell_type": "markdown",
   "id": "2f7a7928",
   "metadata": {},
   "source": [
    "## GENERATE NEW FEATURES"
   ]
  },
  {
   "cell_type": "code",
   "execution_count": 17,
   "id": "22a3cd6b",
   "metadata": {},
   "outputs": [],
   "source": [
    "interesting_ratios = [['AVG_PTS_LAST_5', 'TEAM_AVG_PTS_LAST_5'], \n",
    "                      ['AVG_AST_LAST_5', 'TEAM_AVG_AST_LAST_5'], \n",
    "                      ['AVG_REB_LAST_5', 'TEAM_AVG_REB_LAST_5'],\n",
    "                      ['AVG_PTS_LAST_10', 'TEAM_AVG_PTS_LAST_10'], \n",
    "                      ['AVG_AST_LAST_10', 'TEAM_AVG_AST_LAST_10'], \n",
    "                      ['AVG_REB_LAST_10', 'TEAM_AVG_REB_LAST_10']]\n",
    "\n",
    "for ratio in interesting_ratios:\n",
    "    df_reduced[f'RATIO_{ratio[0]}_{ratio[1]}'] = df_reduced[ratio[0]]/df_reduced[ratio[1]]"
   ]
  },
  {
   "cell_type": "code",
   "execution_count": 18,
   "id": "f3521616",
   "metadata": {},
   "outputs": [],
   "source": [
    "columns_X = ['AVG_MIN_LAST_5', 'AVG_FGM_LAST_5',\n",
    "       'AVG_FGA_LAST_5', 'AVG_FG_PCT_LAST_5', 'AVG_FG3M_LAST_5',\n",
    "       'AVG_FG3A_LAST_5', 'AVG_FG3_PCT_LAST_5', 'AVG_FTM_LAST_5',\n",
    "       'AVG_FTA_LAST_5', 'AVG_FT_PCT_LAST_5', 'AVG_OREB_LAST_5',\n",
    "       'AVG_DREB_LAST_5', 'AVG_REB_LAST_5', 'AVG_AST_LAST_5', 'AVG_STL_LAST_5',\n",
    "       'AVG_BLK_LAST_5', 'AVG_TO_LAST_5', 'AVG_PF_LAST_5', 'AVG_PTS_LAST_5',\n",
    "       'AVG_PLUS_MINUS_LAST_5', 'GAMES_PLAYED_LAST_5', 'AVG_MIN_LAST_10',\n",
    "       'AVG_FGM_LAST_10', 'AVG_FGA_LAST_10', 'AVG_FG_PCT_LAST_10',\n",
    "       'AVG_FG3M_LAST_10', 'AVG_FG3A_LAST_10', 'AVG_FG3_PCT_LAST_10',\n",
    "       'AVG_FTM_LAST_10', 'AVG_FTA_LAST_10', 'AVG_FT_PCT_LAST_10',\n",
    "       'AVG_OREB_LAST_10', 'AVG_DREB_LAST_10', 'AVG_REB_LAST_10',\n",
    "       'AVG_AST_LAST_10', 'AVG_STL_LAST_10', 'AVG_BLK_LAST_10',\n",
    "       'AVG_TO_LAST_10', 'AVG_PF_LAST_10', 'AVG_PTS_LAST_10',\n",
    "       'AVG_PLUS_MINUS_LAST_10', 'GAMES_PLAYED_LAST_10', 'TEAM_AVG_PTS_LAST_5',\n",
    "       'TEAM_AVG_FG_PCT_LAST_5', 'TEAM_AVG_FT_PCT_LAST_5',\n",
    "       'TEAM_AVG_FG3_PCT_LAST_5', 'TEAM_AVG_AST_LAST_5', 'TEAM_AVG_REB_LAST_5',\n",
    "       'TEAM_AVG_TEAM_WINS_LAST_5', 'TEAM_AVG_PTS_LAST_10',\n",
    "       'TEAM_AVG_FG_PCT_LAST_10', 'TEAM_AVG_FT_PCT_LAST_10',\n",
    "       'TEAM_AVG_FG3_PCT_LAST_10', 'TEAM_AVG_AST_LAST_10',\n",
    "       'TEAM_AVG_REB_LAST_10', 'TEAM_AVG_TEAM_WINS_LAST_10',\n",
    "       'RATIO_AVG_PTS_LAST_5_TEAM_AVG_PTS_LAST_5',\n",
    "       'RATIO_AVG_AST_LAST_5_TEAM_AVG_AST_LAST_5',\n",
    "       'RATIO_AVG_REB_LAST_5_TEAM_AVG_REB_LAST_5',\n",
    "       'RATIO_AVG_PTS_LAST_10_TEAM_AVG_PTS_LAST_10',\n",
    "       'RATIO_AVG_AST_LAST_10_TEAM_AVG_AST_LAST_10',\n",
    "       'RATIO_AVG_REB_LAST_10_TEAM_AVG_REB_LAST_10',\n",
    "       'AVERAGE SC RATING']\n",
    "columns_Y = ['PTS', 'REB', 'AST']\n",
    "\n",
    "df_reduced = df_reduced[columns_X + columns_Y]"
   ]
  },
  {
   "cell_type": "code",
   "execution_count": 19,
   "id": "abb31576",
   "metadata": {},
   "outputs": [],
   "source": [
    "df_reduced.to_csv('Prepared Data/df.csv')"
   ]
  }
 ],
 "metadata": {
  "kernelspec": {
   "display_name": "Python 3",
   "language": "python",
   "name": "python3"
  },
  "language_info": {
   "codemirror_mode": {
    "name": "ipython",
    "version": 3
   },
   "file_extension": ".py",
   "mimetype": "text/x-python",
   "name": "python",
   "nbconvert_exporter": "python",
   "pygments_lexer": "ipython3",
   "version": "3.8.8"
  }
 },
 "nbformat": 4,
 "nbformat_minor": 5
}
