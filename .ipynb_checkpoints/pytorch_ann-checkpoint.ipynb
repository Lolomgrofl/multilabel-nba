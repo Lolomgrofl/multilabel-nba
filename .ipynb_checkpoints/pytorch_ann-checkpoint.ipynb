{
 "cells": [
  {
   "cell_type": "markdown",
   "id": "30592c86",
   "metadata": {},
   "source": [
    "# LIBRARIES"
   ]
  },
  {
   "cell_type": "code",
   "execution_count": 1,
   "id": "366002a9",
   "metadata": {},
   "outputs": [],
   "source": [
    "import torch\n",
    "import torch.nn as nn\n",
    "import torch.nn.functional as F\n",
    "from torch.utils.data import DataLoader\n",
    "from torchvision import datasets, transforms"
   ]
  },
  {
   "cell_type": "code",
   "execution_count": 2,
   "id": "33ed9423",
   "metadata": {},
   "outputs": [],
   "source": [
    "from sklearn.preprocessing import StandardScaler\n",
    "\n",
    "from sklearn.metrics import mean_absolute_error, mean_squared_error"
   ]
  },
  {
   "cell_type": "code",
   "execution_count": 3,
   "id": "0e747636",
   "metadata": {},
   "outputs": [],
   "source": [
    "import pandas as pd\n",
    "import numpy as np\n",
    "import pickle\n",
    "import matplotlib.pyplot as plt\n",
    "\n",
    "import warnings\n",
    "warnings.filterwarnings('ignore')\n",
    "\n",
    "pd.set_option('max_columns', None)\n",
    "pd.set_option('max_rows', 80)"
   ]
  },
  {
   "cell_type": "markdown",
   "id": "c3396f88",
   "metadata": {},
   "source": [
    "# DATA"
   ]
  },
  {
   "cell_type": "code",
   "execution_count": 4,
   "id": "edeae1b9",
   "metadata": {},
   "outputs": [],
   "source": [
    "df = pd.read_csv('Prepared Data/df.csv')\n",
    "df = df.fillna(0)"
   ]
  },
  {
   "cell_type": "code",
   "execution_count": 5,
   "id": "f3186999",
   "metadata": {},
   "outputs": [],
   "source": [
    "year = 2018\n",
    "idx_train = df['SEASON'] <= year\n",
    "idx_test = df['SEASON'] > year\n",
    "\n",
    "df_train = df.loc[idx_train, :]\n",
    "df_test = df.loc[idx_test, :]\n",
    "\n",
    "index_cols = ['PLAYER_ID', 'PLAYER_NAME', 'TEAM_ABBREVIATION', 'SEASON']\n",
    "\n",
    "df_train = df_train.set_index(index_cols)\n",
    "df_test = df_test.set_index(index_cols)"
   ]
  },
  {
   "cell_type": "code",
   "execution_count": 6,
   "id": "528a0fc8",
   "metadata": {},
   "outputs": [
    {
     "name": "stdout",
     "output_type": "stream",
     "text": [
      "(248306, 63)\n",
      "(248306, 3)\n"
     ]
    }
   ],
   "source": [
    "label_cols = ['PTS', 'REB', 'AST']\n",
    "X_train, X_test = df_train.drop(label_cols, axis=1), df_test.drop(label_cols, axis=1)\n",
    "y_train, y_test = df_train[label_cols], df_test[label_cols]\n",
    "\n",
    "print(X_train.shape)\n",
    "print(y_train.shape)"
   ]
  },
  {
   "cell_type": "code",
   "execution_count": 7,
   "id": "2efb2f79",
   "metadata": {},
   "outputs": [],
   "source": [
    "scaler_X = StandardScaler().fit(X_train)\n",
    "scaler_y = StandardScaler().fit(y_train)\n",
    "\n",
    "X_train = pd.DataFrame(scaler_X.transform(X_train), columns=X_train.columns)\n",
    "X_test = pd.DataFrame(scaler_X.transform(X_test), columns=X_test.columns)\n",
    "y_train_norm = pd.DataFrame(scaler_y.transform(y_train), columns=y_train.columns)\n",
    "y_test_norm = pd.DataFrame(scaler_y.transform(y_test), columns=y_test.columns)"
   ]
  },
  {
   "cell_type": "code",
   "execution_count": 8,
   "id": "197e5abe",
   "metadata": {},
   "outputs": [],
   "source": [
    "X_train = torch.from_numpy(np.array(X_train).astype(np.float32))\n",
    "X_test = torch.from_numpy(np.array(X_test).astype(np.float32))\n",
    "y_train = torch.from_numpy(np.array(y_train_norm).astype(np.float32))\n",
    "y_test = torch.from_numpy(np.array(y_test_norm).astype(np.float32))"
   ]
  },
  {
   "cell_type": "code",
   "execution_count": 9,
   "id": "82383789",
   "metadata": {},
   "outputs": [
    {
     "data": {
      "text/plain": [
       "63"
      ]
     },
     "execution_count": 9,
     "metadata": {},
     "output_type": "execute_result"
    }
   ],
   "source": [
    "X_train.shape[1]"
   ]
  },
  {
   "cell_type": "markdown",
   "id": "edf448dd",
   "metadata": {},
   "source": [
    "# NEURAL NETWORK"
   ]
  },
  {
   "cell_type": "code",
   "execution_count": 10,
   "id": "22ccfc82",
   "metadata": {},
   "outputs": [],
   "source": [
    "class ANN(nn.Module):\n",
    "    def __init__(self, input_size=63, output_size=3, layers=[120,84]):\n",
    "        super().__init__()\n",
    "        self.fc1 = nn.Linear(input_size,layers[0])\n",
    "        self.fc2 = nn.Linear(layers[0],layers[1])\n",
    "        self.fc3 = nn.Linear(layers[1],output_size)\n",
    "        self.dropout = nn.Dropout(0.25)\n",
    "    \n",
    "    def forward(self, X):\n",
    "        X = F.relu(self.fc1(X))\n",
    "        X = self.dropout(X)\n",
    "        X = F.relu(self.fc2(X))\n",
    "        X = self.dropout(X)\n",
    "        X = self.fc3(X)\n",
    "        return X"
   ]
  },
  {
   "cell_type": "code",
   "execution_count": 11,
   "id": "f34c2da7",
   "metadata": {},
   "outputs": [
    {
     "data": {
      "text/plain": [
       "<torch._C.Generator at 0x24b64b49410>"
      ]
     },
     "execution_count": 11,
     "metadata": {},
     "output_type": "execute_result"
    }
   ],
   "source": [
    "torch.manual_seed(35)"
   ]
  },
  {
   "cell_type": "code",
   "execution_count": 12,
   "id": "74d0605f",
   "metadata": {},
   "outputs": [
    {
     "data": {
      "text/plain": [
       "ANN(\n",
       "  (fc1): Linear(in_features=63, out_features=120, bias=True)\n",
       "  (fc2): Linear(in_features=120, out_features=84, bias=True)\n",
       "  (fc3): Linear(in_features=84, out_features=3, bias=True)\n",
       "  (dropout): Dropout(p=0.25, inplace=False)\n",
       ")"
      ]
     },
     "execution_count": 12,
     "metadata": {},
     "output_type": "execute_result"
    }
   ],
   "source": [
    "model = ANN()\n",
    "model"
   ]
  },
  {
   "cell_type": "code",
   "execution_count": 13,
   "id": "dc74d430",
   "metadata": {},
   "outputs": [],
   "source": [
    "criterion = nn.MSELoss()\n",
    "optimizer = torch.optim.Adam(model.parameters(), lr=0.01)"
   ]
  },
  {
   "cell_type": "code",
   "execution_count": 14,
   "id": "eca92570",
   "metadata": {},
   "outputs": [
    {
     "name": "stdout",
     "output_type": "stream",
     "text": [
      "Epoch: 0 Loss: 1.0252125263214111\n",
      "Epoch: 10 Loss: 0.9461822509765625\n",
      "Epoch: 20 Loss: 0.9370214343070984\n",
      "Epoch: 30 Loss: 0.9317667484283447\n",
      "Epoch: 40 Loss: 0.9283778667449951\n",
      "Epoch: 50 Loss: 0.9264545440673828\n",
      "Epoch: 60 Loss: 0.9244831204414368\n",
      "Epoch: 70 Loss: 0.923098087310791\n",
      "Epoch: 80 Loss: 0.9216331243515015\n",
      "Epoch: 90 Loss: 0.9206502437591553\n"
     ]
    }
   ],
   "source": [
    "epochs = 100\n",
    "losses = []\n",
    "\n",
    "for i in range(epochs):\n",
    "    y_hat = model(X_train)\n",
    "    loss = criterion(y_hat, y_train)\n",
    "    losses.append(loss)\n",
    "    \n",
    " \n",
    "    if i % 10 == 0:\n",
    "        print(f'Epoch: {i} Loss: {loss}')\n",
    " \n",
    "    optimizer.zero_grad()\n",
    "    loss.backward()\n",
    "    optimizer.step()\n",
    "with open(f'{model.__class__.__name__}.pickle', 'wb') as f:\n",
    "            pickle.dump(model, f)"
   ]
  },
  {
   "cell_type": "code",
   "execution_count": 15,
   "id": "666dba84",
   "metadata": {},
   "outputs": [],
   "source": [
    "def evaluate(y, y_hat):\n",
    "    outputs = []\n",
    "    \n",
    "    outputs.append(mean_absolute_error(y, y_hat)) # GENERAL MAE\n",
    "    outputs.append(np.sqrt(mean_squared_error(y, y_hat))) # GENERAL RMSE\n",
    "    \n",
    "    for i in range(y.shape[1]):\n",
    "        outputs.append(mean_absolute_error(y.iloc[:, i], y_hat.iloc[:, i])) #SPECIFIC OUTPUT MAE\n",
    "        outputs.append(mean_squared_error(y.iloc[:, i], y_hat.iloc[:, i])) #SPECIFIC OUTPUT RMSE\n",
    "        \n",
    "    return outputs"
   ]
  },
  {
   "cell_type": "code",
   "execution_count": 16,
   "id": "00a29d8e",
   "metadata": {},
   "outputs": [
    {
     "data": {
      "text/html": [
       "<div>\n",
       "<style scoped>\n",
       "    .dataframe tbody tr th:only-of-type {\n",
       "        vertical-align: middle;\n",
       "    }\n",
       "\n",
       "    .dataframe tbody tr th {\n",
       "        vertical-align: top;\n",
       "    }\n",
       "\n",
       "    .dataframe thead th {\n",
       "        text-align: right;\n",
       "    }\n",
       "</style>\n",
       "<table border=\"1\" class=\"dataframe\">\n",
       "  <thead>\n",
       "    <tr style=\"text-align: right;\">\n",
       "      <th></th>\n",
       "      <th>0</th>\n",
       "      <th>1</th>\n",
       "      <th>2</th>\n",
       "    </tr>\n",
       "  </thead>\n",
       "  <tbody>\n",
       "    <tr>\n",
       "      <th>0</th>\n",
       "      <td>12.146446</td>\n",
       "      <td>4.829453</td>\n",
       "      <td>2.609970</td>\n",
       "    </tr>\n",
       "    <tr>\n",
       "      <th>1</th>\n",
       "      <td>11.692315</td>\n",
       "      <td>4.584507</td>\n",
       "      <td>2.614982</td>\n",
       "    </tr>\n",
       "    <tr>\n",
       "      <th>2</th>\n",
       "      <td>12.504880</td>\n",
       "      <td>5.120720</td>\n",
       "      <td>2.514208</td>\n",
       "    </tr>\n",
       "    <tr>\n",
       "      <th>3</th>\n",
       "      <td>11.141133</td>\n",
       "      <td>4.707856</td>\n",
       "      <td>1.977403</td>\n",
       "    </tr>\n",
       "    <tr>\n",
       "      <th>4</th>\n",
       "      <td>12.608542</td>\n",
       "      <td>4.966882</td>\n",
       "      <td>2.692571</td>\n",
       "    </tr>\n",
       "    <tr>\n",
       "      <th>...</th>\n",
       "      <td>...</td>\n",
       "      <td>...</td>\n",
       "      <td>...</td>\n",
       "    </tr>\n",
       "    <tr>\n",
       "      <th>248301</th>\n",
       "      <td>9.659372</td>\n",
       "      <td>3.893003</td>\n",
       "      <td>1.573970</td>\n",
       "    </tr>\n",
       "    <tr>\n",
       "      <th>248302</th>\n",
       "      <td>17.508623</td>\n",
       "      <td>4.791647</td>\n",
       "      <td>5.175361</td>\n",
       "    </tr>\n",
       "    <tr>\n",
       "      <th>248303</th>\n",
       "      <td>15.605177</td>\n",
       "      <td>6.671285</td>\n",
       "      <td>3.027626</td>\n",
       "    </tr>\n",
       "    <tr>\n",
       "      <th>248304</th>\n",
       "      <td>17.734938</td>\n",
       "      <td>7.405539</td>\n",
       "      <td>3.941108</td>\n",
       "    </tr>\n",
       "    <tr>\n",
       "      <th>248305</th>\n",
       "      <td>16.585089</td>\n",
       "      <td>8.268187</td>\n",
       "      <td>3.749226</td>\n",
       "    </tr>\n",
       "  </tbody>\n",
       "</table>\n",
       "<p>248306 rows × 3 columns</p>\n",
       "</div>"
      ],
      "text/plain": [
       "                0         1         2\n",
       "0       12.146446  4.829453  2.609970\n",
       "1       11.692315  4.584507  2.614982\n",
       "2       12.504880  5.120720  2.514208\n",
       "3       11.141133  4.707856  1.977403\n",
       "4       12.608542  4.966882  2.692571\n",
       "...           ...       ...       ...\n",
       "248301   9.659372  3.893003  1.573970\n",
       "248302  17.508623  4.791647  5.175361\n",
       "248303  15.605177  6.671285  3.027626\n",
       "248304  17.734938  7.405539  3.941108\n",
       "248305  16.585089  8.268187  3.749226\n",
       "\n",
       "[248306 rows x 3 columns]"
      ]
     },
     "execution_count": 16,
     "metadata": {},
     "output_type": "execute_result"
    }
   ],
   "source": [
    "y_train_hat_pd = pd.DataFrame(scaler_y.inverse_transform(model(X_train).detach().numpy()))\n",
    "y_train_pd = pd.DataFrame(scaler_y.inverse_transform(y_train.detach().numpy()))\n",
    "\n",
    "y_train_hat_pd"
   ]
  },
  {
   "cell_type": "code",
   "execution_count": 17,
   "id": "734f8d0b",
   "metadata": {},
   "outputs": [
    {
     "data": {
      "text/html": [
       "<div>\n",
       "<style scoped>\n",
       "    .dataframe tbody tr th:only-of-type {\n",
       "        vertical-align: middle;\n",
       "    }\n",
       "\n",
       "    .dataframe tbody tr th {\n",
       "        vertical-align: top;\n",
       "    }\n",
       "\n",
       "    .dataframe thead th {\n",
       "        text-align: right;\n",
       "    }\n",
       "</style>\n",
       "<table border=\"1\" class=\"dataframe\">\n",
       "  <thead>\n",
       "    <tr style=\"text-align: right;\">\n",
       "      <th></th>\n",
       "      <th>GENERAL_MAE</th>\n",
       "      <th>GENERAL_RMSE</th>\n",
       "      <th>PTS_MAE</th>\n",
       "      <th>PTS_RMSE</th>\n",
       "      <th>REB_MAE</th>\n",
       "      <th>REB_RMSE</th>\n",
       "      <th>AST_MAE</th>\n",
       "      <th>AST_RMSE</th>\n",
       "    </tr>\n",
       "  </thead>\n",
       "  <tbody>\n",
       "    <tr>\n",
       "      <th>0</th>\n",
       "      <td>3.559201</td>\n",
       "      <td>5.064713</td>\n",
       "      <td>6.062113</td>\n",
       "      <td>58.401894</td>\n",
       "      <td>2.692513</td>\n",
       "      <td>12.134678</td>\n",
       "      <td>1.923135</td>\n",
       "      <td>6.422238</td>\n",
       "    </tr>\n",
       "  </tbody>\n",
       "</table>\n",
       "</div>"
      ],
      "text/plain": [
       "   GENERAL_MAE  GENERAL_RMSE   PTS_MAE   PTS_RMSE   REB_MAE   REB_RMSE  \\\n",
       "0     3.559201      5.064713  6.062113  58.401894  2.692513  12.134678   \n",
       "\n",
       "    AST_MAE  AST_RMSE  \n",
       "0  1.923135  6.422238  "
      ]
     },
     "execution_count": 17,
     "metadata": {},
     "output_type": "execute_result"
    }
   ],
   "source": [
    "res = pd.DataFrame(pd.DataFrame(evaluate(y_train_pd, y_train_hat_pd)).T)\n",
    "res.columns = ['GENERAL_MAE', 'GENERAL_RMSE', 'PTS_MAE', 'PTS_RMSE', 'REB_MAE', 'REB_RMSE', 'AST_MAE', 'AST_RMSE']\n",
    "res"
   ]
  },
  {
   "cell_type": "code",
   "execution_count": 18,
   "id": "f35e6e57",
   "metadata": {},
   "outputs": [],
   "source": [
    "y_test_hat_pd = pd.DataFrame(scaler_y.inverse_transform(model(X_test).detach().numpy()))\n",
    "y_test_pd = pd.DataFrame(scaler_y.inverse_transform(y_test.detach().numpy()))"
   ]
  },
  {
   "cell_type": "code",
   "execution_count": 19,
   "id": "027a0ffb",
   "metadata": {},
   "outputs": [
    {
     "data": {
      "text/html": [
       "<div>\n",
       "<style scoped>\n",
       "    .dataframe tbody tr th:only-of-type {\n",
       "        vertical-align: middle;\n",
       "    }\n",
       "\n",
       "    .dataframe tbody tr th {\n",
       "        vertical-align: top;\n",
       "    }\n",
       "\n",
       "    .dataframe thead th {\n",
       "        text-align: right;\n",
       "    }\n",
       "</style>\n",
       "<table border=\"1\" class=\"dataframe\">\n",
       "  <thead>\n",
       "    <tr style=\"text-align: right;\">\n",
       "      <th></th>\n",
       "      <th>GENERAL_MAE</th>\n",
       "      <th>GENERAL_RMSE</th>\n",
       "      <th>PTS_MAE</th>\n",
       "      <th>PTS_RMSE</th>\n",
       "      <th>REB_MAE</th>\n",
       "      <th>REB_RMSE</th>\n",
       "      <th>AST_MAE</th>\n",
       "      <th>AST_RMSE</th>\n",
       "    </tr>\n",
       "  </thead>\n",
       "  <tbody>\n",
       "    <tr>\n",
       "      <th>0</th>\n",
       "      <td>3.659056</td>\n",
       "      <td>5.302969</td>\n",
       "      <td>6.386239</td>\n",
       "      <td>65.915871</td>\n",
       "      <td>2.609045</td>\n",
       "      <td>11.6076</td>\n",
       "      <td>1.981876</td>\n",
       "      <td>6.841067</td>\n",
       "    </tr>\n",
       "  </tbody>\n",
       "</table>\n",
       "</div>"
      ],
      "text/plain": [
       "   GENERAL_MAE  GENERAL_RMSE   PTS_MAE   PTS_RMSE   REB_MAE  REB_RMSE  \\\n",
       "0     3.659056      5.302969  6.386239  65.915871  2.609045   11.6076   \n",
       "\n",
       "    AST_MAE  AST_RMSE  \n",
       "0  1.981876  6.841067  "
      ]
     },
     "execution_count": 19,
     "metadata": {},
     "output_type": "execute_result"
    }
   ],
   "source": [
    "res = pd.DataFrame(pd.DataFrame(evaluate(y_test_pd, y_test_hat_pd)).T)\n",
    "res.columns = ['GENERAL_MAE', 'GENERAL_RMSE', 'PTS_MAE', 'PTS_RMSE', 'REB_MAE', 'REB_RMSE', 'AST_MAE', 'AST_RMSE']\n",
    "res"
   ]
  },
  {
   "cell_type": "code",
   "execution_count": 20,
   "id": "3d29a407",
   "metadata": {},
   "outputs": [],
   "source": [
    "res.to_csv('Results/PyTorch_results.csv')"
   ]
  }
 ],
 "metadata": {
  "kernelspec": {
   "display_name": "Python 3",
   "language": "python",
   "name": "python3"
  },
  "language_info": {
   "codemirror_mode": {
    "name": "ipython",
    "version": 3
   },
   "file_extension": ".py",
   "mimetype": "text/x-python",
   "name": "python",
   "nbconvert_exporter": "python",
   "pygments_lexer": "ipython3",
   "version": "3.8.8"
  }
 },
 "nbformat": 4,
 "nbformat_minor": 5
}
