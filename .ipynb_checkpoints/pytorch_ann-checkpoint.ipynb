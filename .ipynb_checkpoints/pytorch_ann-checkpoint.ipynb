{
 "cells": [
  {
   "cell_type": "markdown",
   "id": "b1ac9b09",
   "metadata": {},
   "source": [
    "# LIBRARIES"
   ]
  },
  {
   "cell_type": "code",
   "execution_count": 1,
   "id": "77768670",
   "metadata": {},
   "outputs": [],
   "source": [
    "import torch\n",
    "import torch.nn as nn\n",
    "import torch.nn.functional as F\n",
    "from torch.utils.data import DataLoader\n",
    "from torchvision import datasets, transforms"
   ]
  },
  {
   "cell_type": "code",
   "execution_count": 2,
   "id": "017324b2",
   "metadata": {},
   "outputs": [],
   "source": [
    "import pandas as pd\n",
    "import numpy as np\n",
    "import pickle\n",
    "import matplotlib.pyplot as plt\n",
    "\n",
    "import warnings\n",
    "warnings.filterwarnings('ignore')\n",
    "\n",
    "pd.set_option('max_columns', None)\n",
    "pd.set_option('max_rows', 80)"
   ]
  },
  {
   "cell_type": "markdown",
   "id": "5f4058bc",
   "metadata": {},
   "source": [
    "# DATA"
   ]
  },
  {
   "cell_type": "code",
   "execution_count": 3,
   "id": "78a043b2",
   "metadata": {},
   "outputs": [],
   "source": [
    "df = pd.read_csv('Prepared Data/df.csv')\n",
    "df = df.fillna(0)"
   ]
  },
  {
   "cell_type": "code",
   "execution_count": 4,
   "id": "553b6725",
   "metadata": {},
   "outputs": [],
   "source": [
    "year = 2018\n",
    "idx_train = df['SEASON'] <= year\n",
    "idx_test = df['SEASON'] > year\n",
    "\n",
    "df_train = df.loc[idx_train, :]\n",
    "df_test = df.loc[idx_test, :]\n",
    "\n",
    "index_cols = ['PLAYER_ID', 'PLAYER_NAME', 'TEAM_ABBREVIATION', 'SEASON']\n",
    "\n",
    "df_train = df_train.set_index(index_cols)\n",
    "df_test = df_test.set_index(index_cols)"
   ]
  },
  {
   "cell_type": "code",
   "execution_count": 5,
   "id": "705df94f",
   "metadata": {},
   "outputs": [
    {
     "name": "stdout",
     "output_type": "stream",
     "text": [
      "(248306, 63)\n",
      "(248306, 3)\n"
     ]
    }
   ],
   "source": [
    "label_cols = ['PTS', 'REB', 'AST']\n",
    "X_train, X_test = df_train.drop(label_cols, axis=1), df_test.drop(label_cols, axis=1)\n",
    "y_train, y_test = df_train[label_cols], df_test[label_cols]\n",
    "\n",
    "print(X_train.shape)\n",
    "print(y_train.shape)"
   ]
  },
  {
   "cell_type": "code",
   "execution_count": 6,
   "id": "a1f2d7ec",
   "metadata": {},
   "outputs": [],
   "source": [
    "X_train = torch.from_numpy(np.array(X_train).astype(np.float32))\n",
    "X_test = torch.from_numpy(np.array(X_test).astype(np.float32))\n",
    "y_train = torch.from_numpy(np.array(y_train).astype(np.float32))\n",
    "y_test = torch.from_numpy(np.array(y_test).astype(np.float32))"
   ]
  },
  {
   "cell_type": "code",
   "execution_count": 7,
   "id": "ffa6b911",
   "metadata": {},
   "outputs": [
    {
     "data": {
      "text/plain": [
       "63"
      ]
     },
     "execution_count": 7,
     "metadata": {},
     "output_type": "execute_result"
    }
   ],
   "source": [
    "X_train.shape[1]"
   ]
  },
  {
   "cell_type": "markdown",
   "id": "d78221b9",
   "metadata": {},
   "source": [
    "# NEURAL NETWORK"
   ]
  },
  {
   "cell_type": "code",
   "execution_count": 8,
   "id": "c38b232c",
   "metadata": {},
   "outputs": [],
   "source": [
    "class ANN(nn.Module):\n",
    "    def __init__(self, input_size=63, output_size=3, layers=[120,84]):\n",
    "        super().__init__()\n",
    "        self.fc1 = nn.Linear(input_size,layers[0])\n",
    "        self.fc2 = nn.Linear(layers[0],layers[1])\n",
    "        self.fc3 = nn.Linear(layers[1],output_size)\n",
    "    \n",
    "    def forward(self, X):\n",
    "        X = F.relu(self.fc1(X))\n",
    "        X = F.relu(self.fc2(X))\n",
    "        X = self.fc3(X)\n",
    "        return X"
   ]
  },
  {
   "cell_type": "code",
   "execution_count": 9,
   "id": "d78f9dbf",
   "metadata": {},
   "outputs": [
    {
     "data": {
      "text/plain": [
       "<torch._C.Generator at 0x1e665888410>"
      ]
     },
     "execution_count": 9,
     "metadata": {},
     "output_type": "execute_result"
    }
   ],
   "source": [
    "torch.manual_seed(35)"
   ]
  },
  {
   "cell_type": "code",
   "execution_count": 10,
   "id": "a98565f2",
   "metadata": {},
   "outputs": [
    {
     "data": {
      "text/plain": [
       "ANN(\n",
       "  (fc1): Linear(in_features=63, out_features=120, bias=True)\n",
       "  (fc2): Linear(in_features=120, out_features=84, bias=True)\n",
       "  (fc3): Linear(in_features=84, out_features=3, bias=True)\n",
       ")"
      ]
     },
     "execution_count": 10,
     "metadata": {},
     "output_type": "execute_result"
    }
   ],
   "source": [
    "model = ANN()\n",
    "model"
   ]
  },
  {
   "cell_type": "code",
   "execution_count": 11,
   "id": "52cfd321",
   "metadata": {},
   "outputs": [],
   "source": [
    "criterion = nn.MSELoss()\n",
    "optimizer = torch.optim.Adam(model.parameters(), lr=0.01)"
   ]
  },
  {
   "cell_type": "code",
   "execution_count": 13,
   "id": "f4eb1d6e",
   "metadata": {},
   "outputs": [
    {
     "name": "stdout",
     "output_type": "stream",
     "text": [
      "Epoch: 0 Loss: 135.19725036621094\n",
      "Epoch: 10 Loss: 28.834806442260742\n",
      "Epoch: 20 Loss: 27.224618911743164\n",
      "Epoch: 30 Loss: 26.708723068237305\n",
      "Epoch: 40 Loss: 26.61451530456543\n",
      "Epoch: 50 Loss: 26.51548194885254\n",
      "Epoch: 60 Loss: 26.43751335144043\n",
      "Epoch: 70 Loss: 26.383628845214844\n",
      "Epoch: 80 Loss: 26.3471622467041\n",
      "Epoch: 90 Loss: 26.318700790405273\n"
     ]
    }
   ],
   "source": [
    "epochs = 100\n",
    "losses = []\n",
    "\n",
    "for i in range(epochs):\n",
    "    y_hat = model(X_train)\n",
    "    loss = criterion(y_hat, y_train)\n",
    "    losses.append(loss)\n",
    "    \n",
    " \n",
    "    if i % 10 == 0:\n",
    "        print(f'Epoch: {i} Loss: {loss}')\n",
    " \n",
    "    optimizer.zero_grad()\n",
    "    loss.backward()\n",
    "    optimizer.step()"
   ]
  },
  {
   "cell_type": "code",
   "execution_count": null,
   "id": "eeeb09a7",
   "metadata": {},
   "outputs": [],
   "source": []
  }
 ],
 "metadata": {
  "kernelspec": {
   "display_name": "Python 3",
   "language": "python",
   "name": "python3"
  },
  "language_info": {
   "codemirror_mode": {
    "name": "ipython",
    "version": 3
   },
   "file_extension": ".py",
   "mimetype": "text/x-python",
   "name": "python",
   "nbconvert_exporter": "python",
   "pygments_lexer": "ipython3",
   "version": "3.8.8"
  }
 },
 "nbformat": 4,
 "nbformat_minor": 5
}
