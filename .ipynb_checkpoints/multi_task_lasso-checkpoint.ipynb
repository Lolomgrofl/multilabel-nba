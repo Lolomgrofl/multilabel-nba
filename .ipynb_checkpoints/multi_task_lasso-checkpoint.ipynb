{
 "cells": [
  {
   "cell_type": "markdown",
   "id": "58a29d11",
   "metadata": {},
   "source": [
    "# LIBRARIES"
   ]
  },
  {
   "cell_type": "code",
   "execution_count": 1,
   "id": "07d8fd2c",
   "metadata": {},
   "outputs": [],
   "source": [
    "import pandas as pd\n",
    "import numpy as np\n",
    "import pickle\n",
    "import matplotlib.pyplot as plt\n",
    "\n",
    "import warnings\n",
    "warnings.filterwarnings('ignore')\n",
    "\n",
    "pd.set_option('max_columns', None)\n",
    "pd.set_option('max_rows', 80)"
   ]
  },
  {
   "cell_type": "code",
   "execution_count": 2,
   "id": "2352e5d1",
   "metadata": {},
   "outputs": [],
   "source": [
    "from sklearn.preprocessing import StandardScaler, MinMaxScaler\n",
    "\n",
    "from sklearn.multioutput import RegressorChain, MultiOutputRegressor\n",
    "\n",
    "from sklearn.linear_model import RidgeCV, MultiTaskLasso, LinearRegression, ElasticNet, LassoCV\n",
    "from sklearn.tree import DecisionTreeRegressor\n",
    "from sklearn.neural_network import MLPRegressor\n",
    "from sklearn.ensemble import RandomForestRegressor, GradientBoostingRegressor\n",
    "\n",
    "from sklearn.model_selection import cross_val_score, RepeatedKFold\n",
    "\n",
    "from sklearn.metrics import mean_absolute_error, mean_squared_error"
   ]
  },
  {
   "cell_type": "markdown",
   "id": "cbb72d22",
   "metadata": {},
   "source": [
    "# DATA"
   ]
  },
  {
   "cell_type": "code",
   "execution_count": 3,
   "id": "05795477",
   "metadata": {},
   "outputs": [],
   "source": [
    "df = pd.read_csv('Prepared Data/df.csv')\n",
    "df = df.fillna(0)"
   ]
  },
  {
   "cell_type": "code",
   "execution_count": 4,
   "id": "50bc8bac",
   "metadata": {},
   "outputs": [],
   "source": [
    "year = 2018\n",
    "idx_train = df['SEASON'] <= year\n",
    "idx_test = df['SEASON'] > year\n",
    "\n",
    "df_train = df.loc[idx_train, :]\n",
    "df_test = df.loc[idx_test, :]\n",
    "\n",
    "index_cols = ['PLAYER_ID', 'PLAYER_NAME', 'TEAM_ABBREVIATION', 'SEASON']\n",
    "\n",
    "df_train = df_train.set_index(index_cols)\n",
    "df_test = df_test.set_index(index_cols)"
   ]
  },
  {
   "cell_type": "code",
   "execution_count": 5,
   "id": "e0316442",
   "metadata": {},
   "outputs": [],
   "source": [
    "label_cols = ['PTS', 'REB', 'AST']\n",
    "\n",
    "X_train, X_test = df_train.drop(label_cols, axis=1), df_test.drop(label_cols, axis=1)\n",
    "y_train, y_test = df_train[label_cols], df_test[label_cols]"
   ]
  },
  {
   "cell_type": "markdown",
   "id": "784ec413",
   "metadata": {},
   "source": [
    "# HELP METHODS"
   ]
  },
  {
   "cell_type": "code",
   "execution_count": 6,
   "id": "016c5b3f",
   "metadata": {},
   "outputs": [],
   "source": [
    "def evaluate(y, y_hat):\n",
    "    outputs = []\n",
    "    \n",
    "    outputs.append(mean_absolute_error(y, y_hat)) # GENERAL MAE\n",
    "    outputs.append(np.sqrt(mean_squared_error(y, y_hat))) # GENERAL RMSE\n",
    "    \n",
    "    for i in range(y.shape[1]):\n",
    "        outputs.append(mean_absolute_error(y.iloc[:, i], y_hat[:, i])) #SPECIFIC OUTPUT MAE\n",
    "        outputs.append(mean_squared_error(y.iloc[:, i], y_hat[:, i])) #SPECIFIC OUTPUT RMSE\n",
    "        \n",
    "    return outputs"
   ]
  },
  {
   "cell_type": "markdown",
   "id": "ec097558",
   "metadata": {},
   "source": [
    "# MODELS"
   ]
  },
  {
   "cell_type": "code",
   "execution_count": 7,
   "id": "eb7f1cb0",
   "metadata": {},
   "outputs": [],
   "source": [
    "model = MultiTaskLasso(alpha=0.1)"
   ]
  },
  {
   "cell_type": "code",
   "execution_count": 9,
   "id": "712bb983",
   "metadata": {},
   "outputs": [],
   "source": [
    "model.fit(X_train, y_train)\n",
    "results = []\n",
    "\n",
    "y_hat_train = model.predict(X_train)\n",
    "y_hat_test = model.predict(X_test)\n",
    "\n",
    "results.append(['TRAIN', model.__class__.__name__, *evaluate(y_train, y_hat_train)])\n",
    "results.append(['TEST', model.__class__.__name__, *evaluate(y_test, y_hat_test)])\n",
    "with open(f'{model.__class__.__name__}.pickle', 'wb') as f:\n",
    "    pickle.dump(model, f)"
   ]
  },
  {
   "cell_type": "code",
   "execution_count": 10,
   "id": "4198a673",
   "metadata": {},
   "outputs": [
    {
     "data": {
      "text/html": [
       "<div>\n",
       "<style scoped>\n",
       "    .dataframe tbody tr th:only-of-type {\n",
       "        vertical-align: middle;\n",
       "    }\n",
       "\n",
       "    .dataframe tbody tr th {\n",
       "        vertical-align: top;\n",
       "    }\n",
       "\n",
       "    .dataframe thead th {\n",
       "        text-align: right;\n",
       "    }\n",
       "</style>\n",
       "<table border=\"1\" class=\"dataframe\">\n",
       "  <thead>\n",
       "    <tr style=\"text-align: right;\">\n",
       "      <th></th>\n",
       "      <th>DATASET</th>\n",
       "      <th>ALGORITHM</th>\n",
       "      <th>GENERAL_MAE</th>\n",
       "      <th>GENERAL_RMSE</th>\n",
       "      <th>PTS_MAE</th>\n",
       "      <th>PTS_RMSE</th>\n",
       "      <th>REB_MAE</th>\n",
       "      <th>REB_RMSE</th>\n",
       "      <th>AST_MAE</th>\n",
       "      <th>AST_RMSE</th>\n",
       "    </tr>\n",
       "  </thead>\n",
       "  <tbody>\n",
       "    <tr>\n",
       "      <th>0</th>\n",
       "      <td>TRAIN</td>\n",
       "      <td>MultiTaskLasso</td>\n",
       "      <td>3.587445</td>\n",
       "      <td>5.100821</td>\n",
       "      <td>6.097992</td>\n",
       "      <td>59.145175</td>\n",
       "      <td>2.719480</td>\n",
       "      <td>12.339373</td>\n",
       "      <td>1.944864</td>\n",
       "      <td>6.570590</td>\n",
       "    </tr>\n",
       "    <tr>\n",
       "      <th>1</th>\n",
       "      <td>TEST</td>\n",
       "      <td>MultiTaskLasso</td>\n",
       "      <td>3.658488</td>\n",
       "      <td>5.322672</td>\n",
       "      <td>6.393761</td>\n",
       "      <td>66.439105</td>\n",
       "      <td>2.596172</td>\n",
       "      <td>11.650085</td>\n",
       "      <td>1.985532</td>\n",
       "      <td>6.903308</td>\n",
       "    </tr>\n",
       "  </tbody>\n",
       "</table>\n",
       "</div>"
      ],
      "text/plain": [
       "  DATASET       ALGORITHM  GENERAL_MAE  GENERAL_RMSE   PTS_MAE   PTS_RMSE  \\\n",
       "0   TRAIN  MultiTaskLasso     3.587445      5.100821  6.097992  59.145175   \n",
       "1    TEST  MultiTaskLasso     3.658488      5.322672  6.393761  66.439105   \n",
       "\n",
       "    REB_MAE   REB_RMSE   AST_MAE  AST_RMSE  \n",
       "0  2.719480  12.339373  1.944864  6.570590  \n",
       "1  2.596172  11.650085  1.985532  6.903308  "
      ]
     },
     "execution_count": 10,
     "metadata": {},
     "output_type": "execute_result"
    }
   ],
   "source": [
    "results = pd.DataFrame(results, columns=['DATASET', 'ALGORITHM',\n",
    "                                         'GENERAL_MAE', 'GENERAL_RMSE', \n",
    "                                         'PTS_MAE', 'PTS_RMSE', \n",
    "                                         'REB_MAE', 'REB_RMSE', \n",
    "                                         'AST_MAE', 'AST_RMSE'])\n",
    "\n",
    "results"
   ]
  }
 ],
 "metadata": {
  "kernelspec": {
   "display_name": "Python 3",
   "language": "python",
   "name": "python3"
  },
  "language_info": {
   "codemirror_mode": {
    "name": "ipython",
    "version": 3
   },
   "file_extension": ".py",
   "mimetype": "text/x-python",
   "name": "python",
   "nbconvert_exporter": "python",
   "pygments_lexer": "ipython3",
   "version": "3.8.8"
  }
 },
 "nbformat": 4,
 "nbformat_minor": 5
}
