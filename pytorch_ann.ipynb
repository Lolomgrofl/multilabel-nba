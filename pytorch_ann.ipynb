{
 "cells": [
  {
   "cell_type": "markdown",
   "metadata": {},
   "source": [
    "# LIBRARIES"
   ]
  },
  {
   "cell_type": "code",
   "execution_count": 1,
   "metadata": {},
   "outputs": [],
   "source": [
    "import torch\n",
    "import torch.nn as nn\n",
    "import torch.nn.functional as F\n",
    "from torch.utils.data import DataLoader\n",
    "from torchvision import datasets, transforms"
   ]
  },
  {
   "cell_type": "code",
   "execution_count": 82,
   "metadata": {},
   "outputs": [],
   "source": [
    "from sklearn.preprocessing import StandardScaler\n",
    "\n",
    "from sklearn.metrics import mean_absolute_error, mean_squared_error"
   ]
  },
  {
   "cell_type": "code",
   "execution_count": 2,
   "metadata": {},
   "outputs": [
    {
     "name": "stderr",
     "output_type": "stream",
     "text": [
      "D:\\Development\\Anaconda\\lib\\site-packages\\pandas\\compat\\_optional.py:138: UserWarning: Pandas requires version '2.7.0' or newer of 'numexpr' (version '2.6.9' currently installed).\n",
      "  warnings.warn(msg, UserWarning)\n"
     ]
    }
   ],
   "source": [
    "import pandas as pd\n",
    "import numpy as np\n",
    "import pickle\n",
    "import matplotlib.pyplot as plt\n",
    "\n",
    "import warnings\n",
    "warnings.filterwarnings('ignore')\n",
    "\n",
    "pd.set_option('max_columns', None)\n",
    "pd.set_option('max_rows', 80)"
   ]
  },
  {
   "cell_type": "markdown",
   "metadata": {},
   "source": [
    "# DATA"
   ]
  },
  {
   "cell_type": "code",
   "execution_count": 84,
   "metadata": {},
   "outputs": [],
   "source": [
    "df = pd.read_csv('Prepared Data/df.csv')\n",
    "df = df.fillna(0)"
   ]
  },
  {
   "cell_type": "code",
   "execution_count": 85,
   "metadata": {},
   "outputs": [],
   "source": [
    "year = 2018\n",
    "idx_train = df['SEASON'] <= year\n",
    "idx_test = df['SEASON'] > year\n",
    "\n",
    "df_train = df.loc[idx_train, :]\n",
    "df_test = df.loc[idx_test, :]\n",
    "\n",
    "index_cols = ['PLAYER_ID', 'PLAYER_NAME', 'TEAM_ABBREVIATION', 'SEASON']\n",
    "\n",
    "df_train = df_train.set_index(index_cols)\n",
    "df_test = df_test.set_index(index_cols)"
   ]
  },
  {
   "cell_type": "code",
   "execution_count": 86,
   "metadata": {},
   "outputs": [
    {
     "name": "stdout",
     "output_type": "stream",
     "text": [
      "(248306, 63)\n",
      "(248306, 3)\n"
     ]
    }
   ],
   "source": [
    "label_cols = ['PTS', 'REB', 'AST']\n",
    "X_train, X_test = df_train.drop(label_cols, axis=1), df_test.drop(label_cols, axis=1)\n",
    "y_train, y_test = df_train[label_cols], df_test[label_cols]\n",
    "\n",
    "print(X_train.shape)\n",
    "print(y_train.shape)"
   ]
  },
  {
   "cell_type": "code",
   "execution_count": 87,
   "metadata": {},
   "outputs": [],
   "source": [
    "scaler_X = StandardScaler().fit(X_train)\n",
    "scaler_y = StandardScaler().fit(y_train)\n",
    "\n",
    "X_train = pd.DataFrame(scaler_X.transform(X_train), columns=X_train.columns)\n",
    "X_test = pd.DataFrame(scaler_X.transform(X_test), columns=X_test.columns)\n",
    "y_train_norm = pd.DataFrame(scaler_y.transform(y_train), columns=y_train.columns)\n",
    "y_test_norm = pd.DataFrame(scaler_y.transform(y_test), columns=y_test.columns)"
   ]
  },
  {
   "cell_type": "code",
   "execution_count": 88,
   "metadata": {},
   "outputs": [],
   "source": [
    "X_train = torch.from_numpy(np.array(X_train).astype(np.float32))\n",
    "X_test = torch.from_numpy(np.array(X_test).astype(np.float32))\n",
    "y_train = torch.from_numpy(np.array(y_train_norm).astype(np.float32))\n",
    "y_test = torch.from_numpy(np.array(y_test_norm).astype(np.float32))"
   ]
  },
  {
   "cell_type": "code",
   "execution_count": 89,
   "metadata": {},
   "outputs": [
    {
     "data": {
      "text/plain": [
       "63"
      ]
     },
     "execution_count": 89,
     "metadata": {},
     "output_type": "execute_result"
    }
   ],
   "source": [
    "X_train.shape[1]"
   ]
  },
  {
   "cell_type": "markdown",
   "metadata": {},
   "source": [
    "# NEURAL NETWORK"
   ]
  },
  {
   "cell_type": "code",
   "execution_count": 90,
   "metadata": {},
   "outputs": [],
   "source": [
    "class ANN(nn.Module):\n",
    "    def __init__(self, input_size=63, output_size=3, layers=[120,84]):\n",
    "        super().__init__()\n",
    "        self.fc1 = nn.Linear(input_size,layers[0])\n",
    "        self.fc2 = nn.Linear(layers[0],layers[1])\n",
    "        self.fc3 = nn.Linear(layers[1],output_size)\n",
    "    \n",
    "    def forward(self, X):\n",
    "        X = F.relu(self.fc1(X))\n",
    "        X = F.relu(self.fc2(X))\n",
    "        X = self.fc3(X)\n",
    "        return X"
   ]
  },
  {
   "cell_type": "code",
   "execution_count": 91,
   "metadata": {},
   "outputs": [
    {
     "data": {
      "text/plain": [
       "<torch._C.Generator at 0x21b6cc8d8a0>"
      ]
     },
     "execution_count": 91,
     "metadata": {},
     "output_type": "execute_result"
    }
   ],
   "source": [
    "torch.manual_seed(35)"
   ]
  },
  {
   "cell_type": "code",
   "execution_count": 92,
   "metadata": {},
   "outputs": [
    {
     "data": {
      "text/plain": [
       "ANN(\n",
       "  (fc1): Linear(in_features=63, out_features=120, bias=True)\n",
       "  (fc2): Linear(in_features=120, out_features=84, bias=True)\n",
       "  (fc3): Linear(in_features=84, out_features=3, bias=True)\n",
       ")"
      ]
     },
     "execution_count": 92,
     "metadata": {},
     "output_type": "execute_result"
    }
   ],
   "source": [
    "model = ANN()\n",
    "model"
   ]
  },
  {
   "cell_type": "code",
   "execution_count": 93,
   "metadata": {},
   "outputs": [],
   "source": [
    "criterion = nn.MSELoss()\n",
    "optimizer = torch.optim.Adam(model.parameters(), lr=0.01)"
   ]
  },
  {
   "cell_type": "code",
   "execution_count": 94,
   "metadata": {},
   "outputs": [
    {
     "name": "stdout",
     "output_type": "stream",
     "text": [
      "Epoch: 0 Loss: 1.01754629611969\n",
      "Epoch: 10 Loss: 0.9360349178314209\n",
      "Epoch: 20 Loss: 0.9271999597549438\n",
      "Epoch: 30 Loss: 0.9235746264457703\n",
      "Epoch: 40 Loss: 0.9207262396812439\n",
      "Epoch: 50 Loss: 0.9181305766105652\n",
      "Epoch: 60 Loss: 0.9155824780464172\n",
      "Epoch: 70 Loss: 0.9148122072219849\n",
      "Epoch: 80 Loss: 0.9119161367416382\n",
      "Epoch: 90 Loss: 0.9097720980644226\n"
     ]
    }
   ],
   "source": [
    "epochs = 100\n",
    "losses = []\n",
    "\n",
    "for i in range(epochs):\n",
    "    y_hat = model(X_train)\n",
    "    loss = criterion(y_hat, y_train)\n",
    "    losses.append(loss)\n",
    "    \n",
    " \n",
    "    if i % 10 == 0:\n",
    "        print(f'Epoch: {i} Loss: {loss}')\n",
    " \n",
    "    optimizer.zero_grad()\n",
    "    loss.backward()\n",
    "    optimizer.step()"
   ]
  },
  {
   "cell_type": "code",
   "execution_count": 95,
   "metadata": {},
   "outputs": [],
   "source": [
    "def evaluate(y, y_hat):\n",
    "    outputs = []\n",
    "    \n",
    "    outputs.append(mean_absolute_error(y, y_hat)) # GENERAL MAE\n",
    "    outputs.append(np.sqrt(mean_squared_error(y, y_hat))) # GENERAL RMSE\n",
    "    \n",
    "    for i in range(y.shape[1]):\n",
    "        outputs.append(mean_absolute_error(y.iloc[:, i], y_hat.iloc[:, i])) #SPECIFIC OUTPUT MAE\n",
    "        outputs.append(mean_squared_error(y.iloc[:, i], y_hat.iloc[:, i])) #SPECIFIC OUTPUT RMSE\n",
    "        \n",
    "    return outputs"
   ]
  },
  {
   "cell_type": "code",
   "execution_count": 100,
   "metadata": {},
   "outputs": [
    {
     "data": {
      "text/html": [
       "<div>\n",
       "<style scoped>\n",
       "    .dataframe tbody tr th:only-of-type {\n",
       "        vertical-align: middle;\n",
       "    }\n",
       "\n",
       "    .dataframe tbody tr th {\n",
       "        vertical-align: top;\n",
       "    }\n",
       "\n",
       "    .dataframe thead th {\n",
       "        text-align: right;\n",
       "    }\n",
       "</style>\n",
       "<table border=\"1\" class=\"dataframe\">\n",
       "  <thead>\n",
       "    <tr style=\"text-align: right;\">\n",
       "      <th></th>\n",
       "      <th>0</th>\n",
       "      <th>1</th>\n",
       "      <th>2</th>\n",
       "    </tr>\n",
       "  </thead>\n",
       "  <tbody>\n",
       "    <tr>\n",
       "      <th>0</th>\n",
       "      <td>11.521053</td>\n",
       "      <td>5.423691</td>\n",
       "      <td>2.390883</td>\n",
       "    </tr>\n",
       "    <tr>\n",
       "      <th>1</th>\n",
       "      <td>11.165410</td>\n",
       "      <td>5.124151</td>\n",
       "      <td>2.656630</td>\n",
       "    </tr>\n",
       "    <tr>\n",
       "      <th>2</th>\n",
       "      <td>10.690843</td>\n",
       "      <td>5.372534</td>\n",
       "      <td>2.457751</td>\n",
       "    </tr>\n",
       "    <tr>\n",
       "      <th>3</th>\n",
       "      <td>11.302227</td>\n",
       "      <td>4.873906</td>\n",
       "      <td>3.105391</td>\n",
       "    </tr>\n",
       "    <tr>\n",
       "      <th>4</th>\n",
       "      <td>10.974297</td>\n",
       "      <td>4.875594</td>\n",
       "      <td>3.022850</td>\n",
       "    </tr>\n",
       "    <tr>\n",
       "      <th>...</th>\n",
       "      <td>...</td>\n",
       "      <td>...</td>\n",
       "      <td>...</td>\n",
       "    </tr>\n",
       "    <tr>\n",
       "      <th>248301</th>\n",
       "      <td>11.087193</td>\n",
       "      <td>4.258136</td>\n",
       "      <td>1.434515</td>\n",
       "    </tr>\n",
       "    <tr>\n",
       "      <th>248302</th>\n",
       "      <td>15.866229</td>\n",
       "      <td>4.832871</td>\n",
       "      <td>4.569745</td>\n",
       "    </tr>\n",
       "    <tr>\n",
       "      <th>248303</th>\n",
       "      <td>15.695960</td>\n",
       "      <td>6.103225</td>\n",
       "      <td>4.267400</td>\n",
       "    </tr>\n",
       "    <tr>\n",
       "      <th>248304</th>\n",
       "      <td>16.077885</td>\n",
       "      <td>6.715473</td>\n",
       "      <td>3.784178</td>\n",
       "    </tr>\n",
       "    <tr>\n",
       "      <th>248305</th>\n",
       "      <td>16.334023</td>\n",
       "      <td>7.353478</td>\n",
       "      <td>4.152929</td>\n",
       "    </tr>\n",
       "  </tbody>\n",
       "</table>\n",
       "<p>248306 rows × 3 columns</p>\n",
       "</div>"
      ],
      "text/plain": [
       "                0         1         2\n",
       "0       11.521053  5.423691  2.390883\n",
       "1       11.165410  5.124151  2.656630\n",
       "2       10.690843  5.372534  2.457751\n",
       "3       11.302227  4.873906  3.105391\n",
       "4       10.974297  4.875594  3.022850\n",
       "...           ...       ...       ...\n",
       "248301  11.087193  4.258136  1.434515\n",
       "248302  15.866229  4.832871  4.569745\n",
       "248303  15.695960  6.103225  4.267400\n",
       "248304  16.077885  6.715473  3.784178\n",
       "248305  16.334023  7.353478  4.152929\n",
       "\n",
       "[248306 rows x 3 columns]"
      ]
     },
     "execution_count": 100,
     "metadata": {},
     "output_type": "execute_result"
    }
   ],
   "source": [
    "y_train_hat_pd = pd.DataFrame(scaler_y.inverse_transform(model(X_train).detach().numpy()))\n",
    "y_train_pd = pd.DataFrame(scaler_y.inverse_transform(y_train.detach().numpy()))\n",
    "\n",
    "y_train_hat_pd"
   ]
  },
  {
   "cell_type": "code",
   "execution_count": 101,
   "metadata": {},
   "outputs": [
    {
     "data": {
      "text/html": [
       "<div>\n",
       "<style scoped>\n",
       "    .dataframe tbody tr th:only-of-type {\n",
       "        vertical-align: middle;\n",
       "    }\n",
       "\n",
       "    .dataframe tbody tr th {\n",
       "        vertical-align: top;\n",
       "    }\n",
       "\n",
       "    .dataframe thead th {\n",
       "        text-align: right;\n",
       "    }\n",
       "</style>\n",
       "<table border=\"1\" class=\"dataframe\">\n",
       "  <thead>\n",
       "    <tr style=\"text-align: right;\">\n",
       "      <th></th>\n",
       "      <th>GENERAL_MAE</th>\n",
       "      <th>GENERAL_RMSE</th>\n",
       "      <th>PTS_MAE</th>\n",
       "      <th>PTS_RMSE</th>\n",
       "      <th>REB_MAE</th>\n",
       "      <th>REB_RMSE</th>\n",
       "      <th>AST_MAE</th>\n",
       "      <th>AST_RMSE</th>\n",
       "    </tr>\n",
       "  </thead>\n",
       "  <tbody>\n",
       "    <tr>\n",
       "      <th>0</th>\n",
       "      <td>3.536658</td>\n",
       "      <td>5.033592</td>\n",
       "      <td>6.022465</td>\n",
       "      <td>57.68449</td>\n",
       "      <td>2.685231</td>\n",
       "      <td>11.993486</td>\n",
       "      <td>1.902313</td>\n",
       "      <td>6.337399</td>\n",
       "    </tr>\n",
       "  </tbody>\n",
       "</table>\n",
       "</div>"
      ],
      "text/plain": [
       "   GENERAL_MAE  GENERAL_RMSE   PTS_MAE  PTS_RMSE   REB_MAE   REB_RMSE  \\\n",
       "0     3.536658      5.033592  6.022465  57.68449  2.685231  11.993486   \n",
       "\n",
       "    AST_MAE  AST_RMSE  \n",
       "0  1.902313  6.337399  "
      ]
     },
     "execution_count": 101,
     "metadata": {},
     "output_type": "execute_result"
    }
   ],
   "source": [
    "res = pd.DataFrame(pd.DataFrame(evaluate(y_train_pd, y_train_hat_pd)).T)\n",
    "res.columns = ['GENERAL_MAE', 'GENERAL_RMSE', 'PTS_MAE', 'PTS_RMSE', 'REB_MAE', 'REB_RMSE', 'AST_MAE', 'AST_RMSE']\n",
    "res"
   ]
  },
  {
   "cell_type": "code",
   "execution_count": 102,
   "metadata": {},
   "outputs": [],
   "source": [
    "y_test_hat_pd = pd.DataFrame(scaler_y.inverse_transform(model(X_test).detach().numpy()))\n",
    "y_test_pd = pd.DataFrame(scaler_y.inverse_transform(y_test.detach().numpy()))"
   ]
  },
  {
   "cell_type": "code",
   "execution_count": 103,
   "metadata": {},
   "outputs": [
    {
     "data": {
      "text/html": [
       "<div>\n",
       "<style scoped>\n",
       "    .dataframe tbody tr th:only-of-type {\n",
       "        vertical-align: middle;\n",
       "    }\n",
       "\n",
       "    .dataframe tbody tr th {\n",
       "        vertical-align: top;\n",
       "    }\n",
       "\n",
       "    .dataframe thead th {\n",
       "        text-align: right;\n",
       "    }\n",
       "</style>\n",
       "<table border=\"1\" class=\"dataframe\">\n",
       "  <thead>\n",
       "    <tr style=\"text-align: right;\">\n",
       "      <th></th>\n",
       "      <th>GENERAL_MAE</th>\n",
       "      <th>GENERAL_RMSE</th>\n",
       "      <th>PTS_MAE</th>\n",
       "      <th>PTS_RMSE</th>\n",
       "      <th>REB_MAE</th>\n",
       "      <th>REB_RMSE</th>\n",
       "      <th>AST_MAE</th>\n",
       "      <th>AST_RMSE</th>\n",
       "    </tr>\n",
       "  </thead>\n",
       "  <tbody>\n",
       "    <tr>\n",
       "      <th>0</th>\n",
       "      <td>3.65979</td>\n",
       "      <td>5.295354</td>\n",
       "      <td>6.382733</td>\n",
       "      <td>65.749237</td>\n",
       "      <td>2.620887</td>\n",
       "      <td>11.557782</td>\n",
       "      <td>1.975768</td>\n",
       "      <td>6.81554</td>\n",
       "    </tr>\n",
       "  </tbody>\n",
       "</table>\n",
       "</div>"
      ],
      "text/plain": [
       "   GENERAL_MAE  GENERAL_RMSE   PTS_MAE   PTS_RMSE   REB_MAE   REB_RMSE  \\\n",
       "0      3.65979      5.295354  6.382733  65.749237  2.620887  11.557782   \n",
       "\n",
       "    AST_MAE  AST_RMSE  \n",
       "0  1.975768   6.81554  "
      ]
     },
     "execution_count": 103,
     "metadata": {},
     "output_type": "execute_result"
    }
   ],
   "source": [
    "res = pd.DataFrame(pd.DataFrame(evaluate(y_test_pd, y_test_hat_pd)).T)\n",
    "res.columns = ['GENERAL_MAE', 'GENERAL_RMSE', 'PTS_MAE', 'PTS_RMSE', 'REB_MAE', 'REB_RMSE', 'AST_MAE', 'AST_RMSE']\n",
    "res"
   ]
  }
 ],
 "metadata": {
  "kernelspec": {
   "display_name": "Python 3",
   "language": "python",
   "name": "python3"
  },
  "language_info": {
   "codemirror_mode": {
    "name": "ipython",
    "version": 3
   },
   "file_extension": ".py",
   "mimetype": "text/x-python",
   "name": "python",
   "nbconvert_exporter": "python",
   "pygments_lexer": "ipython3",
   "version": "3.7.3"
  }
 },
 "nbformat": 4,
 "nbformat_minor": 5
}
