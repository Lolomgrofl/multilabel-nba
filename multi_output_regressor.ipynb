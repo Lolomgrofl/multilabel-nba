{
 "cells": [
  {
   "cell_type": "markdown",
   "id": "a64f10da",
   "metadata": {},
   "source": [
    "# LIBRARIES"
   ]
  },
  {
   "cell_type": "code",
   "execution_count": 1,
   "id": "5c82b870",
   "metadata": {},
   "outputs": [],
   "source": [
    "import pandas as pd\n",
    "import numpy as np\n",
    "import pickle\n",
    "import matplotlib.pyplot as plt\n",
    "\n",
    "import warnings\n",
    "warnings.filterwarnings('ignore')\n",
    "\n",
    "pd.set_option('max_columns', None)\n",
    "pd.set_option('max_rows', 80)"
   ]
  },
  {
   "cell_type": "code",
   "execution_count": 2,
   "id": "e0ef9b04",
   "metadata": {},
   "outputs": [],
   "source": [
    "from sklearn.preprocessing import StandardScaler, MinMaxScaler\n",
    "\n",
    "from sklearn.multioutput import RegressorChain, MultiOutputRegressor\n",
    "\n",
    "from sklearn.linear_model import RidgeCV, MultiTaskLasso, LinearRegression, ElasticNet, LassoCV\n",
    "from sklearn.tree import DecisionTreeRegressor\n",
    "from sklearn.neural_network import MLPRegressor\n",
    "from sklearn.ensemble import RandomForestRegressor, GradientBoostingRegressor\n",
    "\n",
    "from sklearn.model_selection import cross_val_score, RepeatedKFold\n",
    "\n",
    "from sklearn.metrics import mean_absolute_error, mean_squared_error"
   ]
  },
  {
   "cell_type": "markdown",
   "id": "c4a2ec80",
   "metadata": {},
   "source": [
    "# DATA"
   ]
  },
  {
   "cell_type": "code",
   "execution_count": 3,
   "id": "3b0e3257",
   "metadata": {},
   "outputs": [],
   "source": [
    "df = pd.read_csv('Prepared Data/df.csv')\n",
    "df = df.fillna(0)"
   ]
  },
  {
   "cell_type": "code",
   "execution_count": 4,
   "id": "156df2ab",
   "metadata": {},
   "outputs": [],
   "source": [
    "year = 2018\n",
    "idx_train = df['SEASON'] <= year\n",
    "idx_test = df['SEASON'] > year\n",
    "\n",
    "df_train = df.loc[idx_train, :]\n",
    "df_test = df.loc[idx_test, :]\n",
    "\n",
    "index_cols = ['PLAYER_ID', 'PLAYER_NAME', 'TEAM_ABBREVIATION', 'SEASON']\n",
    "\n",
    "df_train = df_train.set_index(index_cols)\n",
    "df_test = df_test.set_index(index_cols)"
   ]
  },
  {
   "cell_type": "code",
   "execution_count": 5,
   "id": "5a2755f8",
   "metadata": {},
   "outputs": [],
   "source": [
    "label_cols = ['PTS', 'REB', 'AST']\n",
    "\n",
    "X_train, X_test = df_train.drop(label_cols, axis=1), df_test.drop(label_cols, axis=1)\n",
    "y_train, y_test = df_train[label_cols], df_test[label_cols]"
   ]
  },
  {
   "cell_type": "markdown",
   "id": "8a270839",
   "metadata": {},
   "source": [
    "# HELP METHODS"
   ]
  },
  {
   "cell_type": "code",
   "execution_count": 6,
   "id": "b45a2d1e",
   "metadata": {},
   "outputs": [],
   "source": [
    "def evaluate(y, y_hat):\n",
    "    outputs = []\n",
    "    \n",
    "    outputs.append(mean_absolute_error(y, y_hat)) # GENERAL MAE\n",
    "    outputs.append(np.sqrt(mean_squared_error(y, y_hat))) # GENERAL RMSE\n",
    "    \n",
    "    for i in range(y.shape[1]):\n",
    "        outputs.append(mean_absolute_error(y.iloc[:, i], y_hat[:, i])) #SPECIFIC OUTPUT MAE\n",
    "        outputs.append(mean_squared_error(y.iloc[:, i], y_hat[:, i])) #SPECIFIC OUTPUT RMSE\n",
    "        \n",
    "    return outputs"
   ]
  },
  {
   "cell_type": "markdown",
   "id": "b6a717c8",
   "metadata": {},
   "source": [
    "# MODELS"
   ]
  },
  {
   "cell_type": "code",
   "execution_count": 7,
   "id": "1863d219",
   "metadata": {},
   "outputs": [],
   "source": [
    "# models = [LinearRegression(), LassoCV(), RidgeCV(), \n",
    "#           DecisionTreeRegressor(), RandomForestRegressor(), \n",
    "#           GradientBoostingRegressor(), MLPRegressor()]\n",
    "\n",
    "models = [LinearRegression(), \n",
    "          DecisionTreeRegressor(max_depth=5), RandomForestRegressor(n_estimators=20), \n",
    "          GradientBoostingRegressor(n_estimators=20)]"
   ]
  },
  {
   "cell_type": "code",
   "execution_count": 9,
   "id": "5a3de095",
   "metadata": {},
   "outputs": [],
   "source": [
    "results = []\n",
    "\n",
    "for model in models:\n",
    "    wrapper = MultiOutputRegressor(model)\n",
    "    wrapper.fit(X_train, y_train)\n",
    "    \n",
    "    y_hat_train = wrapper.predict(X_train)\n",
    "    y_hat_test = wrapper.predict(X_test)\n",
    "    \n",
    "    results.append(['TRAIN', model.__class__.__name__, *evaluate(y_train, y_hat_train)])\n",
    "    results.append(['TEST', model.__class__.__name__, *evaluate(y_test, y_hat_test)])\n",
    "    with open(f'{model.__class__.__name__}.pickle', 'wb') as f:\n",
    "        pickle.dump(wrapper, f)"
   ]
  },
  {
   "cell_type": "code",
   "execution_count": 10,
   "id": "6b348a35",
   "metadata": {},
   "outputs": [
    {
     "data": {
      "text/html": [
       "<div>\n",
       "<style scoped>\n",
       "    .dataframe tbody tr th:only-of-type {\n",
       "        vertical-align: middle;\n",
       "    }\n",
       "\n",
       "    .dataframe tbody tr th {\n",
       "        vertical-align: top;\n",
       "    }\n",
       "\n",
       "    .dataframe thead th {\n",
       "        text-align: right;\n",
       "    }\n",
       "</style>\n",
       "<table border=\"1\" class=\"dataframe\">\n",
       "  <thead>\n",
       "    <tr style=\"text-align: right;\">\n",
       "      <th></th>\n",
       "      <th>DATASET</th>\n",
       "      <th>ALGORITHM</th>\n",
       "      <th>GENERAL_MAE</th>\n",
       "      <th>GENERAL_RMSE</th>\n",
       "      <th>PTS_MAE</th>\n",
       "      <th>PTS_RMSE</th>\n",
       "      <th>REB_MAE</th>\n",
       "      <th>REB_RMSE</th>\n",
       "      <th>AST_MAE</th>\n",
       "      <th>AST_RMSE</th>\n",
       "    </tr>\n",
       "  </thead>\n",
       "  <tbody>\n",
       "    <tr>\n",
       "      <th>0</th>\n",
       "      <td>TRAIN</td>\n",
       "      <td>LinearRegression</td>\n",
       "      <td>3.576600</td>\n",
       "      <td>5.086739</td>\n",
       "      <td>6.081095</td>\n",
       "      <td>58.828647</td>\n",
       "      <td>2.710256</td>\n",
       "      <td>12.262307</td>\n",
       "      <td>1.938448</td>\n",
       "      <td>6.533783</td>\n",
       "    </tr>\n",
       "    <tr>\n",
       "      <th>1</th>\n",
       "      <td>TEST</td>\n",
       "      <td>LinearRegression</td>\n",
       "      <td>3.652095</td>\n",
       "      <td>5.301737</td>\n",
       "      <td>6.372930</td>\n",
       "      <td>65.888077</td>\n",
       "      <td>2.600449</td>\n",
       "      <td>11.590030</td>\n",
       "      <td>1.982907</td>\n",
       "      <td>6.847135</td>\n",
       "    </tr>\n",
       "    <tr>\n",
       "      <th>2</th>\n",
       "      <td>TRAIN</td>\n",
       "      <td>DecisionTreeRegressor</td>\n",
       "      <td>3.588403</td>\n",
       "      <td>5.107114</td>\n",
       "      <td>6.107057</td>\n",
       "      <td>59.351787</td>\n",
       "      <td>2.721307</td>\n",
       "      <td>12.369616</td>\n",
       "      <td>1.936844</td>\n",
       "      <td>6.526441</td>\n",
       "    </tr>\n",
       "    <tr>\n",
       "      <th>3</th>\n",
       "      <td>TEST</td>\n",
       "      <td>DecisionTreeRegressor</td>\n",
       "      <td>3.663994</td>\n",
       "      <td>5.346040</td>\n",
       "      <td>6.402384</td>\n",
       "      <td>67.035780</td>\n",
       "      <td>2.608578</td>\n",
       "      <td>11.748095</td>\n",
       "      <td>1.981019</td>\n",
       "      <td>6.956568</td>\n",
       "    </tr>\n",
       "    <tr>\n",
       "      <th>4</th>\n",
       "      <td>TRAIN</td>\n",
       "      <td>RandomForestRegressor</td>\n",
       "      <td>1.421213</td>\n",
       "      <td>2.092533</td>\n",
       "      <td>2.409770</td>\n",
       "      <td>9.946990</td>\n",
       "      <td>1.080349</td>\n",
       "      <td>2.084286</td>\n",
       "      <td>0.773520</td>\n",
       "      <td>1.104810</td>\n",
       "    </tr>\n",
       "    <tr>\n",
       "      <th>5</th>\n",
       "      <td>TEST</td>\n",
       "      <td>RandomForestRegressor</td>\n",
       "      <td>3.833822</td>\n",
       "      <td>5.465946</td>\n",
       "      <td>6.604120</td>\n",
       "      <td>69.531330</td>\n",
       "      <td>2.765079</td>\n",
       "      <td>12.609399</td>\n",
       "      <td>2.132267</td>\n",
       "      <td>7.488959</td>\n",
       "    </tr>\n",
       "    <tr>\n",
       "      <th>6</th>\n",
       "      <td>TRAIN</td>\n",
       "      <td>GradientBoostingRegressor</td>\n",
       "      <td>3.591443</td>\n",
       "      <td>5.105641</td>\n",
       "      <td>6.111108</td>\n",
       "      <td>59.298196</td>\n",
       "      <td>2.724637</td>\n",
       "      <td>12.373824</td>\n",
       "      <td>1.938585</td>\n",
       "      <td>6.530704</td>\n",
       "    </tr>\n",
       "    <tr>\n",
       "      <th>7</th>\n",
       "      <td>TEST</td>\n",
       "      <td>GradientBoostingRegressor</td>\n",
       "      <td>3.663865</td>\n",
       "      <td>5.354123</td>\n",
       "      <td>6.409072</td>\n",
       "      <td>67.334332</td>\n",
       "      <td>2.609584</td>\n",
       "      <td>11.742501</td>\n",
       "      <td>1.972940</td>\n",
       "      <td>6.923078</td>\n",
       "    </tr>\n",
       "  </tbody>\n",
       "</table>\n",
       "</div>"
      ],
      "text/plain": [
       "  DATASET                  ALGORITHM  GENERAL_MAE  GENERAL_RMSE   PTS_MAE  \\\n",
       "0   TRAIN           LinearRegression     3.576600      5.086739  6.081095   \n",
       "1    TEST           LinearRegression     3.652095      5.301737  6.372930   \n",
       "2   TRAIN      DecisionTreeRegressor     3.588403      5.107114  6.107057   \n",
       "3    TEST      DecisionTreeRegressor     3.663994      5.346040  6.402384   \n",
       "4   TRAIN      RandomForestRegressor     1.421213      2.092533  2.409770   \n",
       "5    TEST      RandomForestRegressor     3.833822      5.465946  6.604120   \n",
       "6   TRAIN  GradientBoostingRegressor     3.591443      5.105641  6.111108   \n",
       "7    TEST  GradientBoostingRegressor     3.663865      5.354123  6.409072   \n",
       "\n",
       "    PTS_RMSE   REB_MAE   REB_RMSE   AST_MAE  AST_RMSE  \n",
       "0  58.828647  2.710256  12.262307  1.938448  6.533783  \n",
       "1  65.888077  2.600449  11.590030  1.982907  6.847135  \n",
       "2  59.351787  2.721307  12.369616  1.936844  6.526441  \n",
       "3  67.035780  2.608578  11.748095  1.981019  6.956568  \n",
       "4   9.946990  1.080349   2.084286  0.773520  1.104810  \n",
       "5  69.531330  2.765079  12.609399  2.132267  7.488959  \n",
       "6  59.298196  2.724637  12.373824  1.938585  6.530704  \n",
       "7  67.334332  2.609584  11.742501  1.972940  6.923078  "
      ]
     },
     "execution_count": 10,
     "metadata": {},
     "output_type": "execute_result"
    }
   ],
   "source": [
    "results = pd.DataFrame(results, columns=['DATASET', 'ALGORITHM',\n",
    "                                         'GENERAL_MAE', 'GENERAL_RMSE', \n",
    "                                         'PTS_MAE', 'PTS_RMSE', \n",
    "                                         'REB_MAE', 'REB_RMSE', \n",
    "                                         'AST_MAE', 'AST_RMSE'])\n",
    "\n",
    "results"
   ]
  },
  {
   "cell_type": "code",
   "execution_count": 11,
   "id": "91f8eb99",
   "metadata": {},
   "outputs": [],
   "source": [
    "results.to_csv('Results/MultiOutputRegressor_results.csv')"
   ]
  }
 ],
 "metadata": {
  "kernelspec": {
   "display_name": "Python 3",
   "language": "python",
   "name": "python3"
  },
  "language_info": {
   "codemirror_mode": {
    "name": "ipython",
    "version": 3
   },
   "file_extension": ".py",
   "mimetype": "text/x-python",
   "name": "python",
   "nbconvert_exporter": "python",
   "pygments_lexer": "ipython3",
   "version": "3.8.8"
  }
 },
 "nbformat": 4,
 "nbformat_minor": 5
}
