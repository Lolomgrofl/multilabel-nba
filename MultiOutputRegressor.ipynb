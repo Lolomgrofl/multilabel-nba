{
 "cells": [
  {
   "cell_type": "markdown",
   "metadata": {},
   "source": [
    "# LIBRARIES"
   ]
  },
  {
   "cell_type": "code",
   "execution_count": 1,
   "metadata": {},
   "outputs": [
    {
     "name": "stderr",
     "output_type": "stream",
     "text": [
      "D:\\Development\\Anaconda\\lib\\site-packages\\pandas\\compat\\_optional.py:138: UserWarning: Pandas requires version '2.7.0' or newer of 'numexpr' (version '2.6.9' currently installed).\n",
      "  warnings.warn(msg, UserWarning)\n"
     ]
    }
   ],
   "source": [
    "import pandas as pd\n",
    "import numpy as np\n",
    "\n",
    "import matplotlib.pyplot as plt\n",
    "\n",
    "import warnings\n",
    "warnings.filterwarnings('ignore')\n",
    "\n",
    "pd.set_option('max_columns', None)\n",
    "pd.set_option('max_rows', 80)"
   ]
  },
  {
   "cell_type": "code",
   "execution_count": 2,
   "metadata": {},
   "outputs": [],
   "source": [
    "from sklearn.preprocessing import StandardScaler, MinMaxScaler\n",
    "\n",
    "from sklearn.multioutput import RegressorChain, MultiOutputRegressor\n",
    "\n",
    "from sklearn.linear_model import RidgeCV, MultiTaskLasso, LinearRegression, ElasticNet, LassoCV\n",
    "from sklearn.tree import DecisionTreeRegressor\n",
    "from sklearn.neural_network import MLPRegressor\n",
    "from sklearn.ensemble import RandomForestRegressor, GradientBoostingRegressor\n",
    "\n",
    "from sklearn.model_selection import cross_val_score, RepeatedKFold\n",
    "\n",
    "from sklearn.metrics import mean_absolute_error, mean_squared_error"
   ]
  },
  {
   "cell_type": "markdown",
   "metadata": {},
   "source": [
    "# DATA"
   ]
  },
  {
   "cell_type": "code",
   "execution_count": 3,
   "metadata": {},
   "outputs": [],
   "source": [
    "df = pd.read_csv('Prepared Data/df.csv')\n",
    "df = df.fillna(0)"
   ]
  },
  {
   "cell_type": "code",
   "execution_count": 4,
   "metadata": {},
   "outputs": [],
   "source": [
    "year = 2018\n",
    "idx_train = df['SEASON'] <= year\n",
    "idx_test = df['SEASON'] > year\n",
    "\n",
    "df_train = df.loc[idx_train, :]\n",
    "df_test = df.loc[idx_test, :]\n",
    "\n",
    "index_cols = ['PLAYER_ID', 'PLAYER_NAME', 'TEAM_ABBREVIATION', 'SEASON']\n",
    "\n",
    "df_train = df_train.set_index(index_cols)\n",
    "df_test = df_test.set_index(index_cols)"
   ]
  },
  {
   "cell_type": "code",
   "execution_count": 5,
   "metadata": {},
   "outputs": [],
   "source": [
    "label_cols = ['PTS', 'REB', 'AST']\n",
    "\n",
    "X_train, X_test = df_train.drop(label_cols, axis=1), df_test.drop(label_cols, axis=1)\n",
    "y_train, y_test = df_train[label_cols], df_test[label_cols]"
   ]
  },
  {
   "cell_type": "markdown",
   "metadata": {},
   "source": [
    "# HELP METHODS"
   ]
  },
  {
   "cell_type": "code",
   "execution_count": 6,
   "metadata": {},
   "outputs": [],
   "source": [
    "def evaluate(y, y_hat):\n",
    "    outputs = []\n",
    "    \n",
    "    outputs.append(mean_absolute_error(y, y_hat)) # GENERAL MAE\n",
    "    outputs.append(np.sqrt(mean_squared_error(y, y_hat))) # GENERAL RMSE\n",
    "    \n",
    "    for i in range(y.shape[1]):\n",
    "        outputs.append(mean_absolute_error(y.iloc[:, i], y_hat[:, i])) #SPECIFIC OUTPUT MAE\n",
    "        outputs.append(mean_squared_error(y.iloc[:, i], y_hat[:, i])) #SPECIFIC OUTPUT RMSE\n",
    "        \n",
    "    return outputs"
   ]
  },
  {
   "cell_type": "markdown",
   "metadata": {},
   "source": [
    "# MODELS"
   ]
  },
  {
   "cell_type": "code",
   "execution_count": 10,
   "metadata": {},
   "outputs": [],
   "source": [
    "# models = [LinearRegression(), LassoCV(), RidgeCV(), \n",
    "#           DecisionTreeRegressor(), RandomForestRegressor(), \n",
    "#           GradientBoostingRegressor(), MLPRegressor()]\n",
    "\n",
    "models = [LinearRegression(), \n",
    "          DecisionTreeRegressor(max_depth=5), RandomForestRegressor(n_estimators=20), \n",
    "          GradientBoostingRegressor(n_estimators=20)]"
   ]
  },
  {
   "cell_type": "code",
   "execution_count": 11,
   "metadata": {},
   "outputs": [],
   "source": [
    "results = []\n",
    "\n",
    "for model in models:\n",
    "    wrapper = MultiOutputRegressor(model)\n",
    "    wrapper.fit(X_train, y_train)\n",
    "    \n",
    "    y_hat_train = wrapper.predict(X_train)\n",
    "    y_hat_test = wrapper.predict(X_test)\n",
    "    \n",
    "    results.append(['TRAIN', model.__class__.__name__, *evaluate(y_train, y_hat_train)])\n",
    "    results.append(['TEST', model.__class__.__name__, *evaluate(y_test, y_hat_test)])"
   ]
  },
  {
   "cell_type": "code",
   "execution_count": 12,
   "metadata": {},
   "outputs": [
    {
     "data": {
      "text/html": [
       "<div>\n",
       "<style scoped>\n",
       "    .dataframe tbody tr th:only-of-type {\n",
       "        vertical-align: middle;\n",
       "    }\n",
       "\n",
       "    .dataframe tbody tr th {\n",
       "        vertical-align: top;\n",
       "    }\n",
       "\n",
       "    .dataframe thead th {\n",
       "        text-align: right;\n",
       "    }\n",
       "</style>\n",
       "<table border=\"1\" class=\"dataframe\">\n",
       "  <thead>\n",
       "    <tr style=\"text-align: right;\">\n",
       "      <th></th>\n",
       "      <th>DATASET</th>\n",
       "      <th>ALGORITHM</th>\n",
       "      <th>GENERAL_MAE</th>\n",
       "      <th>GENERAL_RMSE</th>\n",
       "      <th>PTS_MAE</th>\n",
       "      <th>PTS_RMSE</th>\n",
       "      <th>REB_MAE</th>\n",
       "      <th>REB_RMSE</th>\n",
       "      <th>AST_MAE</th>\n",
       "      <th>AST_RMSE</th>\n",
       "    </tr>\n",
       "  </thead>\n",
       "  <tbody>\n",
       "    <tr>\n",
       "      <th>0</th>\n",
       "      <td>TRAIN</td>\n",
       "      <td>LinearRegression</td>\n",
       "      <td>3.576600</td>\n",
       "      <td>5.086739</td>\n",
       "      <td>6.081095</td>\n",
       "      <td>58.828647</td>\n",
       "      <td>2.710256</td>\n",
       "      <td>12.262307</td>\n",
       "      <td>1.938448</td>\n",
       "      <td>6.533783</td>\n",
       "    </tr>\n",
       "    <tr>\n",
       "      <th>1</th>\n",
       "      <td>TEST</td>\n",
       "      <td>LinearRegression</td>\n",
       "      <td>3.652095</td>\n",
       "      <td>5.301737</td>\n",
       "      <td>6.372930</td>\n",
       "      <td>65.888077</td>\n",
       "      <td>2.600449</td>\n",
       "      <td>11.590030</td>\n",
       "      <td>1.982907</td>\n",
       "      <td>6.847135</td>\n",
       "    </tr>\n",
       "    <tr>\n",
       "      <th>2</th>\n",
       "      <td>TRAIN</td>\n",
       "      <td>DecisionTreeRegressor</td>\n",
       "      <td>3.588403</td>\n",
       "      <td>5.107114</td>\n",
       "      <td>6.107057</td>\n",
       "      <td>59.351787</td>\n",
       "      <td>2.721307</td>\n",
       "      <td>12.369616</td>\n",
       "      <td>1.936844</td>\n",
       "      <td>6.526441</td>\n",
       "    </tr>\n",
       "    <tr>\n",
       "      <th>3</th>\n",
       "      <td>TEST</td>\n",
       "      <td>DecisionTreeRegressor</td>\n",
       "      <td>3.663603</td>\n",
       "      <td>5.345481</td>\n",
       "      <td>6.402384</td>\n",
       "      <td>67.035780</td>\n",
       "      <td>2.608578</td>\n",
       "      <td>11.748095</td>\n",
       "      <td>1.979847</td>\n",
       "      <td>6.938626</td>\n",
       "    </tr>\n",
       "    <tr>\n",
       "      <th>4</th>\n",
       "      <td>TRAIN</td>\n",
       "      <td>RandomForestRegressor</td>\n",
       "      <td>1.418634</td>\n",
       "      <td>2.087580</td>\n",
       "      <td>2.405123</td>\n",
       "      <td>9.896491</td>\n",
       "      <td>1.077311</td>\n",
       "      <td>2.070838</td>\n",
       "      <td>0.773468</td>\n",
       "      <td>1.106643</td>\n",
       "    </tr>\n",
       "    <tr>\n",
       "      <th>5</th>\n",
       "      <td>TEST</td>\n",
       "      <td>RandomForestRegressor</td>\n",
       "      <td>3.840474</td>\n",
       "      <td>5.466752</td>\n",
       "      <td>6.620693</td>\n",
       "      <td>69.572820</td>\n",
       "      <td>2.768867</td>\n",
       "      <td>12.622112</td>\n",
       "      <td>2.131861</td>\n",
       "      <td>7.461196</td>\n",
       "    </tr>\n",
       "    <tr>\n",
       "      <th>6</th>\n",
       "      <td>TRAIN</td>\n",
       "      <td>GradientBoostingRegressor</td>\n",
       "      <td>3.591443</td>\n",
       "      <td>5.105641</td>\n",
       "      <td>6.111108</td>\n",
       "      <td>59.298196</td>\n",
       "      <td>2.724637</td>\n",
       "      <td>12.373824</td>\n",
       "      <td>1.938585</td>\n",
       "      <td>6.530704</td>\n",
       "    </tr>\n",
       "    <tr>\n",
       "      <th>7</th>\n",
       "      <td>TEST</td>\n",
       "      <td>GradientBoostingRegressor</td>\n",
       "      <td>3.663865</td>\n",
       "      <td>5.354123</td>\n",
       "      <td>6.409072</td>\n",
       "      <td>67.334332</td>\n",
       "      <td>2.609584</td>\n",
       "      <td>11.742501</td>\n",
       "      <td>1.972940</td>\n",
       "      <td>6.923078</td>\n",
       "    </tr>\n",
       "  </tbody>\n",
       "</table>\n",
       "</div>"
      ],
      "text/plain": [
       "  DATASET                  ALGORITHM  GENERAL_MAE  GENERAL_RMSE   PTS_MAE  \\\n",
       "0   TRAIN           LinearRegression     3.576600      5.086739  6.081095   \n",
       "1    TEST           LinearRegression     3.652095      5.301737  6.372930   \n",
       "2   TRAIN      DecisionTreeRegressor     3.588403      5.107114  6.107057   \n",
       "3    TEST      DecisionTreeRegressor     3.663603      5.345481  6.402384   \n",
       "4   TRAIN      RandomForestRegressor     1.418634      2.087580  2.405123   \n",
       "5    TEST      RandomForestRegressor     3.840474      5.466752  6.620693   \n",
       "6   TRAIN  GradientBoostingRegressor     3.591443      5.105641  6.111108   \n",
       "7    TEST  GradientBoostingRegressor     3.663865      5.354123  6.409072   \n",
       "\n",
       "    PTS_RMSE   REB_MAE   REB_RMSE   AST_MAE  AST_RMSE  \n",
       "0  58.828647  2.710256  12.262307  1.938448  6.533783  \n",
       "1  65.888077  2.600449  11.590030  1.982907  6.847135  \n",
       "2  59.351787  2.721307  12.369616  1.936844  6.526441  \n",
       "3  67.035780  2.608578  11.748095  1.979847  6.938626  \n",
       "4   9.896491  1.077311   2.070838  0.773468  1.106643  \n",
       "5  69.572820  2.768867  12.622112  2.131861  7.461196  \n",
       "6  59.298196  2.724637  12.373824  1.938585  6.530704  \n",
       "7  67.334332  2.609584  11.742501  1.972940  6.923078  "
      ]
     },
     "execution_count": 12,
     "metadata": {},
     "output_type": "execute_result"
    }
   ],
   "source": [
    "results = pd.DataFrame(results, columns=['DATASET', 'ALGORITHM',\n",
    "                                         'GENERAL_MAE', 'GENERAL_RMSE', \n",
    "                                         'PTS_MAE', 'PTS_RMSE', \n",
    "                                         'REB_MAE', 'REB_RMSE', \n",
    "                                         'AST_MAE', 'AST_RMSE'])\n",
    "\n",
    "results"
   ]
  }
 ],
 "metadata": {
  "kernelspec": {
   "display_name": "Python 3",
   "language": "python",
   "name": "python3"
  },
  "language_info": {
   "codemirror_mode": {
    "name": "ipython",
    "version": 3
   },
   "file_extension": ".py",
   "mimetype": "text/x-python",
   "name": "python",
   "nbconvert_exporter": "python",
   "pygments_lexer": "ipython3",
   "version": "3.7.3"
  }
 },
 "nbformat": 4,
 "nbformat_minor": 5
}
